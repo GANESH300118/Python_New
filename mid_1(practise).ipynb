{
  "nbformat": 4,
  "nbformat_minor": 0,
  "metadata": {
    "colab": {
      "name": "mid-1(practise).ipynb",
      "provenance": [],
      "collapsed_sections": [],
      "authorship_tag": "ABX9TyMeN27xeTY4eGPPcbR28wYs",
      "include_colab_link": true
    },
    "kernelspec": {
      "name": "python3",
      "display_name": "Python 3"
    },
    "language_info": {
      "name": "python"
    }
  },
  "cells": [
    {
      "cell_type": "markdown",
      "metadata": {
        "id": "view-in-github",
        "colab_type": "text"
      },
      "source": [
        "<a href=\"https://colab.research.google.com/github/GANESH300118/Python_New/blob/Module_2/mid_1(practise).ipynb\" target=\"_parent\"><img src=\"https://colab.research.google.com/assets/colab-badge.svg\" alt=\"Open In Colab\"/></a>"
      ]
    },
    {
      "cell_type": "markdown",
      "source": [
        "# write a programe to print prime number in given range by using functions[25-50]"
      ],
      "metadata": {
        "id": "1kJyZ21haNhu"
      }
    },
    {
      "cell_type": "code",
      "source": [
        "def prime(a,b):\n",
        "  for i in range(a, b+1):\n",
        "    k=0\n",
        "    for j in range(2,i):\n",
        "      if(i%j==0):\n",
        "        k=k+1\n",
        "    if k==0:\n",
        "      print(i)\n",
        "prime(25,50)"
      ],
      "metadata": {
        "colab": {
          "base_uri": "https://localhost:8080/"
        },
        "id": "r1_wzzwWczLt",
        "outputId": "5a8e13ea-7401-44b3-ffe2-0622653d9266"
      },
      "execution_count": null,
      "outputs": [
        {
          "output_type": "stream",
          "name": "stdout",
          "text": [
            "29\n",
            "31\n",
            "37\n",
            "41\n",
            "43\n",
            "47\n"
          ]
        }
      ]
    },
    {
      "cell_type": "markdown",
      "source": [
        "# write a programe to read any month in integer and display days for that month. "
      ],
      "metadata": {
        "id": "6PFxhGArafR-"
      }
    },
    {
      "cell_type": "code",
      "source": [
        "n=int(input())\n",
        "if n>0 and n<13:\n",
        "  if (n==1 or n==3 or n==5 or n==7 or n==8 or n==10 or n==12):\n",
        "    print('This month has 31 days in it.')\n",
        "  elif(n==2):\n",
        "    print('This month has 28 days in it.')\n",
        "  else:\n",
        "    print('This month has 30 days in it.')\n",
        "else:\n",
        "  print('Enter number between 1 and 12')"
      ],
      "metadata": {
        "colab": {
          "base_uri": "https://localhost:8080/"
        },
        "id": "6-nkIEKBcxhF",
        "outputId": "4d4b07c2-f4ea-4357-a5ae-122c490e9e57"
      },
      "execution_count": null,
      "outputs": [
        {
          "output_type": "stream",
          "name": "stdout",
          "text": [
            "8\n",
            "This month has 31 days in it.\n"
          ]
        }
      ]
    },
    {
      "cell_type": "markdown",
      "source": [
        "# write a programe to print even length words in a string."
      ],
      "metadata": {
        "id": "nUtrMkbJbqjV"
      }
    },
    {
      "cell_type": "code",
      "source": [
        "def words(s):\n",
        "  s=s.split(' ')\n",
        "  for i in s:\n",
        "    if len(i)%2==0:\n",
        "      print(i) \n",
        "p=\"I have python mid examination this thursday\"\n",
        "words(p)"
      ],
      "metadata": {
        "colab": {
          "base_uri": "https://localhost:8080/"
        },
        "id": "UvhbeWr8lqNz",
        "outputId": "42179d0d-6cdf-49a0-dc5d-e8ea096d09b4"
      },
      "execution_count": null,
      "outputs": [
        {
          "output_type": "stream",
          "name": "stdout",
          "text": [
            "have\n",
            "python\n",
            "this\n",
            "thursday\n"
          ]
        }
      ]
    },
    {
      "cell_type": "markdown",
      "source": [
        "# 1. write a programe to capitalize the first and last letter of a word in a string.\n",
        "# 2. write a programe to read a string from user display first character of each word with capital letter"
      ],
      "metadata": {
        "id": "LyaxUfxSbsOo"
      }
    },
    {
      "cell_type": "code",
      "source": [
        "# Q1\n",
        "def FirstAndLast(string):\n",
        "  ch = list(string)\n",
        "  i = 0\n",
        "  while i<len(ch):\n",
        "    k=i\n",
        "    while(i<len(ch) and ch[i]!=\"\"):\n",
        "        i+=1\n",
        "    if (ord(ch[k]) >= 97 and ord(ch[k]) <= 122 ):\n",
        "      ch[k] = chr(ord(ch[k]) - 32)\n",
        "    else:\n",
        "      ch[k] = ch[k]       \n",
        "    if(ord(ch[i - 1]) >= 90 and ord(ch[i - 1]) <= 122 ):\n",
        "      ch[i - 1] = chr(ord(ch[i - 1]) - 32);\n",
        "    else:\n",
        "      ch[i - 1] = ch[i - 1]\n",
        "      i += 1\n",
        "  return \"\" . join(ch)\n",
        "if __name__ == \"__main__\" :\n",
        "    string = \"I have mid on thursday\"\n",
        "    print(string)\n",
        "    print(FirstAndLast(string))"
      ],
      "metadata": {
        "colab": {
          "base_uri": "https://localhost:8080/"
        },
        "id": "bTEOuliJlq25",
        "outputId": "ec5c27a4-3cfc-41da-c019-9bca7a9d4dc0"
      },
      "execution_count": null,
      "outputs": [
        {
          "output_type": "stream",
          "name": "stdout",
          "text": [
            "I have mid on thursday\n",
            "I have mid on thursdaY\n"
          ]
        }
      ]
    },
    {
      "cell_type": "markdown",
      "source": [
        "# write a python programe to convert a list of multiple integers into a string.\n",
        "[11,33,59]\n",
        "output=[113359]"
      ],
      "metadata": {
        "id": "1kSK4XGzb1uV"
      }
    },
    {
      "cell_type": "code",
      "source": [
        "list=eval(input('List of numbers:'))\n",
        "for x in list:\n",
        "  print(x,end=\"\")"
      ],
      "metadata": {
        "colab": {
          "base_uri": "https://localhost:8080/"
        },
        "id": "E7CHmpcBltdj",
        "outputId": "093c33bd-57ed-46e9-d022-957e97ce6284"
      },
      "execution_count": null,
      "outputs": [
        {
          "output_type": "stream",
          "name": "stdout",
          "text": [
            "List of numbers:[22,33,44]\n",
            "223344"
          ]
        }
      ]
    },
    {
      "cell_type": "markdown",
      "source": [
        "# write a program to find power of numbers with recursion and without recursion."
      ],
      "metadata": {
        "id": "uPuo6ocPKWR9"
      }
    },
    {
      "cell_type": "code",
      "source": [
        "# Using recursion\n",
        "def power(a,b):\n",
        "  if b==0:\n",
        "    return 1\n",
        "  else:\n",
        "    return (a*power(a,b-1))\n",
        "print(power(2,3))\n",
        "# whithout recursion\n",
        "import math\n",
        "a=int(input())\n",
        "b=int(input())\n",
        "print(math.pow(a,b))"
      ],
      "metadata": {
        "colab": {
          "base_uri": "https://localhost:8080/"
        },
        "id": "bKk0YIFiKYDr",
        "outputId": "adfa0c14-976d-4233-87e4-ba7b35909abd"
      },
      "execution_count": null,
      "outputs": [
        {
          "output_type": "stream",
          "name": "stdout",
          "text": [
            "8\n",
            "5\n",
            "3\n",
            "125.0\n"
          ]
        }
      ]
    },
    {
      "cell_type": "markdown",
      "source": [
        "# write a programe to sort tuples by total digits \n",
        "input list=[(3,4,6,723),(1,2),(134,234,34)]"
      ],
      "metadata": {
        "id": "xnxLWI-NKymU"
      }
    },
    {
      "cell_type": "code",
      "source": [
        "a=[(3,4,6,723),(1,2),(134,234,34)]\n",
        "a.sort()\n",
        "print(a)"
      ],
      "metadata": {
        "id": "tdEj-ngjK0Xs",
        "colab": {
          "base_uri": "https://localhost:8080/"
        },
        "outputId": "56d8870b-534a-43ca-c79d-07f430b2cbef"
      },
      "execution_count": null,
      "outputs": [
        {
          "output_type": "stream",
          "name": "stdout",
          "text": [
            "[(1, 2), (3, 4, 6, 723), (134, 234, 34)]\n"
          ]
        }
      ]
    },
    {
      "cell_type": "markdown",
      "source": [
        "# Take five subject marks from the user and display the grades.\n",
        "if average is 92 o grade \n",
        "              82 a grade\n",
        "              72 b grade\n",
        "              .\n",
        "              .\n",
        "              ."
      ],
      "metadata": {
        "id": "-oQzS9bkK06E"
      }
    },
    {
      "cell_type": "code",
      "source": [
        "a=int(input('Enter the Math marks:'))\n",
        "b=int(input('Enter the Hindi marks:'))\n",
        "c=int(input('Enter the Social marks:'))\n",
        "d=int(input('Enter the Science marks:'))\n",
        "e=int(input('Enter the English marks:'))\n",
        "avg=((a+b+c+d+e)//5)\n",
        "if avg>=92:\n",
        "  print('The grade is O')\n",
        "elif avg>=82 and avg<92:\n",
        "  print('The garde is A')\n",
        "elif avg>=72 and avg<82:\n",
        "  print('The grade is B')\n",
        "elif avg>=62 and avg<72:\n",
        "  print('The grade is C')\n",
        "elif avg>52 and avg<62:\n",
        "  print('The grade is D')\n",
        "elif avg>=40 and avg<52:\n",
        "  print('The grade is JUST PASS')\n",
        "else:\n",
        "  print('FAIL')"
      ],
      "metadata": {
        "colab": {
          "base_uri": "https://localhost:8080/"
        },
        "id": "5KO1oxtVLSe8",
        "outputId": "40356191-944f-428e-a5e7-8eb5e11d7d32"
      },
      "execution_count": null,
      "outputs": [
        {
          "output_type": "stream",
          "name": "stdout",
          "text": [
            "Enter the Math marks:92\n",
            "Enter the Hindi marks:97\n",
            "Enter the Social marks:98\n",
            "Enter the Science marks:78\n",
            "Enter the English marks:92\n",
            "The garde is A\n"
          ]
        }
      ]
    },
    {
      "cell_type": "markdown",
      "source": [
        "# write a programe that prints 1 if all the three given numbers are in ascending order otherwise print 0. "
      ],
      "metadata": {
        "id": "uijTgJNGLTK1"
      }
    },
    {
      "cell_type": "code",
      "source": [
        "a=int(input('Enter the number1:'))\n",
        "b=int(input('Enter the number2:'))\n",
        "c=int(input('Enter the number3:'))\n",
        "if b==a+1 and c==a+2:\n",
        "  if a<b and b<c:\n",
        "    print('1')\n",
        "  else:\n",
        "    print('0')\n",
        "else:\n",
        "  print('Given numers sre not in series')"
      ],
      "metadata": {
        "colab": {
          "base_uri": "https://localhost:8080/"
        },
        "id": "Jo60uxz7LqXv",
        "outputId": "6de2b86a-6356-4827-e180-4e6a2a20d24c"
      },
      "execution_count": null,
      "outputs": [
        {
          "output_type": "stream",
          "name": "stdout",
          "text": [
            "Enter the number1:6\n",
            "Enter the number2:7\n",
            "Enter the number3:8\n",
            "1\n"
          ]
        }
      ]
    },
    {
      "cell_type": "markdown",
      "source": [
        "# check give number is perfect or not."
      ],
      "metadata": {
        "id": "TdYMFnRkLtMd"
      }
    },
    {
      "cell_type": "code",
      "source": [
        "i=1\n",
        "sum=0\n",
        "n=int(input())\n",
        "while i<n:\n",
        "  if n%i==0:\n",
        "    sum=sum+i\n",
        "    i=i+1\n",
        "  else:\n",
        "    i=i+1\n",
        "if n==sum:\n",
        "  print(\"The given number is perfect number\")\n",
        "else:\n",
        "  print(\"The given number is not a perfect number\")"
      ],
      "metadata": {
        "colab": {
          "base_uri": "https://localhost:8080/"
        },
        "id": "gmVB0tWkMDK8",
        "outputId": "ff7f0416-02de-4068-92cd-87042d1f2f82"
      },
      "execution_count": null,
      "outputs": [
        {
          "output_type": "stream",
          "name": "stdout",
          "text": [
            "496\n",
            "The given number is perfect number\n"
          ]
        }
      ]
    },
    {
      "cell_type": "markdown",
      "source": [
        "# check if given string is palendrome or not."
      ],
      "metadata": {
        "id": "jHQmcT_iMDlt"
      }
    },
    {
      "cell_type": "code",
      "source": [
        "s='mom'\n",
        "b=s[::-1]\n",
        "if b==s:\n",
        "  print('It is a palindrome')\n",
        "else:\n",
        "  print('Not a pallindrome')"
      ],
      "metadata": {
        "colab": {
          "base_uri": "https://localhost:8080/"
        },
        "id": "aA9HBzDZMcpr",
        "outputId": "59192ec7-a94d-4bc7-86d4-a6babe244ba6"
      },
      "execution_count": null,
      "outputs": [
        {
          "output_type": "stream",
          "name": "stdout",
          "text": [
            "It is a palindrome\n"
          ]
        }
      ]
    },
    {
      "cell_type": "markdown",
      "source": [
        "# find the gcd of two numbers with and without recursion."
      ],
      "metadata": {
        "id": "fQWM9eEaMdis"
      }
    },
    {
      "cell_type": "code",
      "source": [
        "# without recursion\n",
        "import math\n",
        "a=int(input())\n",
        "b=int(input())\n",
        "print(math.gcd(a,b))\n",
        "# with recursion\n",
        "def gcd(c,d):\n",
        "  return (math.gcd(c,d))\n",
        "c=int(input())\n",
        "d=int(input())\n",
        "print(gcd(c,d))"
      ],
      "metadata": {
        "id": "T53N3YvwMrFs",
        "colab": {
          "base_uri": "https://localhost:8080/"
        },
        "outputId": "fc4350d5-e9a4-4830-c96b-288d24047352"
      },
      "execution_count": null,
      "outputs": [
        {
          "output_type": "stream",
          "name": "stdout",
          "text": [
            "15\n",
            "5\n",
            "5\n",
            "8\n",
            "9\n",
            "1\n"
          ]
        }
      ]
    },
    {
      "cell_type": "markdown",
      "source": [
        ".# print sum of digits in a give number.\n",
        "input=1243\n",
        "output=2+4=6"
      ],
      "metadata": {
        "id": "FuM8SoPnMrp-"
      }
    },
    {
      "cell_type": "code",
      "source": [
        "n=int(input(\"Enter a number:\"))\n",
        "s=0\n",
        "while n>0:\n",
        "    r=n%10\n",
        "    if r%2==0:\n",
        "        s=s+r\n",
        "        n=n//10\n",
        "    else:\n",
        "      n=n//10\n",
        "print(\"Sum of even digits:\",s)"
      ],
      "metadata": {
        "id": "_HlYxrmdM8ls",
        "colab": {
          "base_uri": "https://localhost:8080/"
        },
        "outputId": "fe46c4ba-af3b-4ebf-cfe1-0a6de9c2712b"
      },
      "execution_count": null,
      "outputs": [
        {
          "output_type": "stream",
          "name": "stdout",
          "text": [
            "Enter a number:1234\n",
            "Sum of even digits: 6\n"
          ]
        }
      ]
    },
    {
      "cell_type": "markdown",
      "source": [
        "22# calculate the the sum of squares of digits of a number given by the user,.\n",
        "input=123\n",
        "output=1^2+2^2+3^2=14"
      ],
      "metadata": {
        "id": "YmNbXM2WNAsF"
      }
    },
    {
      "cell_type": "code",
      "source": [
        "num = int(input())\n",
        "sum = 0\n",
        "while num!=0:\n",
        "    rem = num%10\n",
        "    sqr = rem*rem\n",
        "    sum = sum+sqr\n",
        "    num = int(num/10)\n",
        "print(sum)"
      ],
      "metadata": {
        "id": "hqrzhjEKNd3t",
        "colab": {
          "base_uri": "https://localhost:8080/"
        },
        "outputId": "7d568365-848a-4f2e-c4d2-aae42d9a81ae"
      },
      "execution_count": null,
      "outputs": [
        {
          "output_type": "stream",
          "name": "stdout",
          "text": [
            "123\n",
            "14\n"
          ]
        }
      ]
    },
    {
      "cell_type": "markdown",
      "source": [
        "# given a string is s='abcdefcba'. front and last match is count+1"
      ],
      "metadata": {
        "id": "S41q_WMxNh0N"
      }
    },
    {
      "cell_type": "code",
      "source": [
        "a=str(input())\n",
        "b=a[::-1]\n",
        "l=int((len(a)/2))\n",
        "c=0\n",
        "for i in range(0,l):\n",
        "  if a[i]==b[i]:\n",
        "    c=c+1\n",
        "print(c)"
      ],
      "metadata": {
        "id": "nc4Tnb39OFOc"
      },
      "execution_count": null,
      "outputs": []
    },
    {
      "cell_type": "markdown",
      "source": [
        "# input=4\n",
        "output=1223334444"
      ],
      "metadata": {
        "id": "Esf-odDIOFv2"
      }
    },
    {
      "cell_type": "code",
      "source": [
        "n=int(input())\n",
        "a=0\n",
        "for x in range(0,n):\n",
        "  if a<x:\n",
        "   print(x*x)\n",
        "  "
      ],
      "metadata": {
        "id": "EgBSU4kaOzwN",
        "colab": {
          "base_uri": "https://localhost:8080/"
        },
        "outputId": "36c3a7b5-40e0-43b8-a80e-54e397edf872"
      },
      "execution_count": null,
      "outputs": [
        {
          "output_type": "stream",
          "name": "stdout",
          "text": [
            "4\n",
            "1\n",
            "4\n",
            "9\n"
          ]
        }
      ]
    },
    {
      "cell_type": "markdown",
      "source": [
        "# print number of vowels and constants\n",
        "input=Gitam university\n",
        "output=5-vowels\n",
        "       10-constants"
      ],
      "metadata": {
        "id": "f5CQevJ2O9kR"
      }
    },
    {
      "cell_type": "code",
      "source": [
        "a=str(input())\n",
        "v=0\n",
        "c=0\n",
        "for i in a:\n",
        "  if i=='a' or i=='e' or i=='o'or i=='u'or i=='i':\n",
        "    v+=1\n",
        "  else:\n",
        "    c+=1\n",
        "print(v)\n",
        "print(c)"
      ],
      "metadata": {
        "id": "rbXtUVX9PqZY",
        "colab": {
          "base_uri": "https://localhost:8080/"
        },
        "outputId": "bc5294df-bb76-4c30-9554-eb8b7ecb53d7"
      },
      "execution_count": null,
      "outputs": [
        {
          "output_type": "stream",
          "name": "stdout",
          "text": [
            "gitamuniversity\n",
            "6\n",
            "9\n"
          ]
        }
      ]
    },
    {
      "cell_type": "markdown",
      "source": [
        "# given two integers a and b if a<b print all numnbers a-b in ascending order\n",
        "and if a>b print in descending order\n"
      ],
      "metadata": {
        "id": "Dp9uXs2EPrmB"
      }
    },
    {
      "cell_type": "code",
      "source": [
        "a=int(input())\n",
        "b=int(input())\n",
        "if a<b:\n",
        "  for i in range(a,b):\n",
        "    print(i)\n",
        "else:\n",
        "  for i in range(a,b,-1):\n",
        "    print(i)"
      ],
      "metadata": {
        "id": "cyz0pTPSP7zs",
        "colab": {
          "base_uri": "https://localhost:8080/"
        },
        "outputId": "9d814df9-728f-41d3-da55-6bc6aef808a2"
      },
      "execution_count": null,
      "outputs": [
        {
          "output_type": "stream",
          "name": "stdout",
          "text": [
            "2\n",
            "10\n",
            "2\n",
            "3\n",
            "4\n",
            "5\n",
            "6\n",
            "7\n",
            "8\n",
            "9\n"
          ]
        }
      ]
    },
    {
      "cell_type": "markdown",
      "source": [
        "# programe to print largest among the three numbers."
      ],
      "metadata": {
        "id": "TbDX0fIkP8W9"
      }
    },
    {
      "cell_type": "code",
      "source": [
        "a=int(input())\n",
        "b=int(input())\n",
        "c=int(input())\n",
        "if (a >= b) and (a >= c):\n",
        "   largest = a\n",
        "elif (b >= a) and (b >= c):\n",
        "   largest = b\n",
        "else:\n",
        "   largest = c\n",
        "\n",
        "print(\"The largest number is\", largest)"
      ],
      "metadata": {
        "id": "5XhzM-pPQCiu",
        "colab": {
          "base_uri": "https://localhost:8080/"
        },
        "outputId": "9e7555d2-29c6-404d-f9e2-1abfb76cdbbd"
      },
      "execution_count": null,
      "outputs": [
        {
          "output_type": "stream",
          "name": "stdout",
          "text": [
            "5\n",
            "6\n",
            "7\n",
            "The largest number is 7\n"
          ]
        }
      ]
    },
    {
      "cell_type": "markdown",
      "source": [
        "# write a programe to count the number of strings where the string length is 2 or more and the first and last charecter are same.\n",
        "# input=[('aba','1221','37336')]--output=2"
      ],
      "metadata": {
        "id": "8iZO8C9yQVgK"
      }
    },
    {
      "cell_type": "code",
      "source": [
        "def match(words):\n",
        "  d=0\n",
        "  for x in words:\n",
        "    if len(words) > 1 and x[0] == x[-1]:\n",
        "      d+=1\n",
        "  return d\n",
        "print(match(['abc','xyz','aba','1221']))"
      ],
      "metadata": {
        "id": "sn_L5J4oRFZb",
        "colab": {
          "base_uri": "https://localhost:8080/"
        },
        "outputId": "44184ac6-a699-4d4d-9e3c-77eecbde2f21"
      },
      "execution_count": null,
      "outputs": [
        {
          "output_type": "stream",
          "name": "stdout",
          "text": [
            "2\n"
          ]
        }
      ]
    },
    {
      "cell_type": "markdown",
      "source": [
        "# there is a walking track of 3 km one round=3+3=6 take input of from user how many days he went and how many rounds he completed\n",
        "if <400 mts message='work more'\n",
        "if >40000 mts message=good job"
      ],
      "metadata": {
        "id": "7tQh4ojkRHl1"
      }
    },
    {
      "cell_type": "code",
      "source": [
        "days=int(input('Enter no of days:'))\n",
        "no=int(input(\"enter no of rounds per day:\"))\n",
        "num=(no*600)\n",
        "dis=days*num\n",
        "if dis<400:\n",
        "  print(\"need to work more\")\n",
        "elif dis>=40000:\n",
        "  print(\"excellent job\")\n",
        "else:\n",
        "  print(\"Not bad\") "
      ],
      "metadata": {
        "id": "EHUUw3d7RvpU",
        "colab": {
          "base_uri": "https://localhost:8080/"
        },
        "outputId": "bbef37e9-75c4-4d8e-da35-f63932db2951"
      },
      "execution_count": null,
      "outputs": [
        {
          "output_type": "stream",
          "name": "stdout",
          "text": [
            "Enter no of days:5\n",
            "enter no of rounds per day:2\n",
            "Not bad\n"
          ]
        }
      ]
    },
    {
      "cell_type": "markdown",
      "source": [
        "# give a list of names in l=[ ] and include charecters also display the names of student whose first letter is given as input"
      ],
      "metadata": {
        "id": "z5hHUK0YSIge"
      }
    },
    {
      "cell_type": "code",
      "source": [
        "test_str =['hello','Hello']\n",
        "print(\"The original string is : \" + str(test_str))\n",
        "for ele in test_str:\n",
        "   if ele.isupper():\n",
        "     print(ele)"
      ],
      "metadata": {
        "id": "GdY3qbj6Si6C",
        "colab": {
          "base_uri": "https://localhost:8080/"
        },
        "outputId": "ad01a997-8756-41d9-d2bd-24161dfc8592"
      },
      "execution_count": null,
      "outputs": [
        {
          "output_type": "stream",
          "name": "stdout",
          "text": [
            "The original string is : ['hello', 'Hello']\n"
          ]
        }
      ]
    },
    {
      "cell_type": "markdown",
      "source": [
        "# give a list of city names, print whose string length is greater than the given length."
      ],
      "metadata": {
        "id": "od_asx2JSjTb"
      }
    },
    {
      "cell_type": "code",
      "source": [
        "list=['delhi','Mumbai','Goa']\n",
        "l=int(input())\n",
        "for x in list:\n",
        "  if len(x)>l:\n",
        "    print(x)"
      ],
      "metadata": {
        "id": "kgJNx6qQS-It",
        "colab": {
          "base_uri": "https://localhost:8080/"
        },
        "outputId": "18cccf6a-2569-4359-b5c3-9870f9bbdb94"
      },
      "execution_count": null,
      "outputs": [
        {
          "output_type": "stream",
          "name": "stdout",
          "text": [
            "2\n",
            "delhi\n",
            "Mumbai\n",
            "Goa\n"
          ]
        }
      ]
    }
  ]
}