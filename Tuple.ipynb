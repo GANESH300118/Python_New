{
  "nbformat": 4,
  "nbformat_minor": 0,
  "metadata": {
    "colab": {
      "name": "Tuple.ipynb",
      "provenance": [],
      "collapsed_sections": [],
      "authorship_tag": "ABX9TyMdUQTOKQEAzevCdRSi2UWM",
      "include_colab_link": true
    },
    "kernelspec": {
      "name": "python3",
      "display_name": "Python 3"
    },
    "language_info": {
      "name": "python"
    }
  },
  "cells": [
    {
      "cell_type": "markdown",
      "metadata": {
        "id": "view-in-github",
        "colab_type": "text"
      },
      "source": [
        "<a href=\"https://colab.research.google.com/github/GANESH300118/Python_New/blob/Module_2/Tuple.ipynb\" target=\"_parent\"><img src=\"https://colab.research.google.com/assets/colab-badge.svg\" alt=\"Open In Colab\"/></a>"
      ]
    },
    {
      "cell_type": "code",
      "execution_count": null,
      "metadata": {
        "colab": {
          "base_uri": "https://localhost:8080/"
        },
        "id": "2V--KeCsN-jg",
        "outputId": "1d11d8f5-1bd1-42b1-c85a-8e638df52165"
      },
      "outputs": [
        {
          "output_type": "stream",
          "name": "stdout",
          "text": [
            "('mahesh', 'ramesh', 'ravi')\n"
          ]
        }
      ],
      "source": [
        "# A tuple is a collection which is ordered and unchangeable.\n",
        "thistuple = (\"mahesh\", \"ramesh\", \"ravi\")\n",
        "print(thistuple)"
      ]
    },
    {
      "cell_type": "code",
      "source": [
        "# When we say that tuples are ordered, it means that the items have a defined order, and that order will not change.\n",
        "# Tuple once created cannot be changed, but it allows dulicated(similar) values \n",
        "thistuple = (\"mahesh\", \"harish\", \"usha\", \"divya\", \"yogesh\")\n",
        "print(thistuple)"
      ],
      "metadata": {
        "colab": {
          "base_uri": "https://localhost:8080/"
        },
        "id": "PSQfwYegQkVY",
        "outputId": "11002b6f-b427-4c1f-829d-793be9cb4c8f"
      },
      "execution_count": null,
      "outputs": [
        {
          "output_type": "stream",
          "name": "stdout",
          "text": [
            "('mahesh', 'harish', 'usha', 'divya', 'yogesh')\n"
          ]
        }
      ]
    },
    {
      "cell_type": "code",
      "source": [
        "# Access Tuple Items\n",
        "# You can access tuple items by referring to the index number, inside square brackets:\n",
        "thistuple = (\"mahesh\", \"ramesh\", \"ravi\")\n",
        "print(thistuple[0])\n",
        "print(thistuple[1])\n",
        "print(thistuple[2])"
      ],
      "metadata": {
        "colab": {
          "base_uri": "https://localhost:8080/"
        },
        "id": "cuUQorsZRBCP",
        "outputId": "dc54771e-94e8-48f9-f55b-280fa3bfc578"
      },
      "execution_count": null,
      "outputs": [
        {
          "output_type": "stream",
          "name": "stdout",
          "text": [
            "mahesh\n",
            "ramesh\n",
            "ravi\n"
          ]
        }
      ]
    },
    {
      "cell_type": "code",
      "source": [
        "# Negative Indexing\n",
        "# Negative indexing means start from the end.\n",
        "# -1 refers to the last item, -2 refers to the second last item etc.\n",
        "thistuple = (\"mahesh\", \"ramesh\", \"ravi\")\n",
        "print(thistuple[0])\n",
        "print(thistuple[-1])\n",
        "print(thistuple[-2])"
      ],
      "metadata": {
        "colab": {
          "base_uri": "https://localhost:8080/"
        },
        "id": "ToccIctURzMm",
        "outputId": "1d61fbbb-1d0b-4551-c8a6-ab7fcec87353"
      },
      "execution_count": null,
      "outputs": [
        {
          "output_type": "stream",
          "name": "stdout",
          "text": [
            "mahesh\n",
            "ravi\n",
            "ramesh\n"
          ]
        }
      ]
    },
    {
      "cell_type": "code",
      "source": [
        "# The search will start at index 2 (included) and end at index 5 (not included).\n",
        "thistuple = (\"apple\", \"banana\", \"cherry\", \"orange\", \"kiwi\", \"melon\", \"mango\")\n",
        "print(thistuple[2:5])\n",
        "print(thistuple[:5])\n",
        "print(thistuple[3:7])\n",
        "print(thistuple[3:])"
      ],
      "metadata": {
        "colab": {
          "base_uri": "https://localhost:8080/"
        },
        "id": "5grvzZrWSTQd",
        "outputId": "cf5c58a8-f3d1-4d8f-f100-99a2212868d5"
      },
      "execution_count": null,
      "outputs": [
        {
          "output_type": "stream",
          "name": "stdout",
          "text": [
            "('cherry', 'orange', 'kiwi')\n",
            "('apple', 'banana', 'cherry', 'orange', 'kiwi')\n",
            "('orange', 'kiwi', 'melon', 'mango')\n",
            "('orange', 'kiwi', 'melon', 'mango')\n"
          ]
        }
      ]
    },
    {
      "cell_type": "code",
      "source": [
        "thistuple = (\"apple\", \"banana\", \"cherry\", \"orange\", \"kiwi\", \"melon\", \"mango\")\n",
        "print(thistuple[-4:-2])"
      ],
      "metadata": {
        "colab": {
          "base_uri": "https://localhost:8080/"
        },
        "id": "yZS2AhYwScgX",
        "outputId": "0eba93fe-5b8e-4235-a415-b0ac76dfbf98"
      },
      "execution_count": null,
      "outputs": [
        {
          "output_type": "stream",
          "name": "stdout",
          "text": [
            "('orange', 'kiwi')\n"
          ]
        }
      ]
    },
    {
      "cell_type": "code",
      "source": [
        "# Check if \"apple\" is present in the tuple:\n",
        "thistuple = (\"mahesh\", \"ramesh\", \"ravi\")\n",
        "if \"mahesh\" in thistuple:\n",
        "  print(\"Yes, 'black' is in the thistuple\")"
      ],
      "metadata": {
        "id": "sRSBn7geTQMu",
        "colab": {
          "base_uri": "https://localhost:8080/"
        },
        "outputId": "0eb2ab47-eb67-4282-c0ae-8e72dfa3b4e1"
      },
      "execution_count": null,
      "outputs": [
        {
          "output_type": "stream",
          "name": "stdout",
          "text": [
            "Yes, 'black' is in the thistuple\n"
          ]
        }
      ]
    },
    {
      "cell_type": "code",
      "source": [
        "thistuple = (\"mahesh\", \"ramesh\", \"ravi\")\n",
        "print(type(thistuple))"
      ],
      "metadata": {
        "id": "Jgsk0lYgT5BW",
        "colab": {
          "base_uri": "https://localhost:8080/"
        },
        "outputId": "2eca75c7-5cf6-4c4a-f271-d6ad07cccb54"
      },
      "execution_count": null,
      "outputs": [
        {
          "output_type": "stream",
          "name": "stdout",
          "text": [
            "<class 'tuple'>\n"
          ]
        }
      ]
    },
    {
      "cell_type": "code",
      "source": [
        "x= (\"mahesh\", \"ramesh\", \"ravi\")\n",
        "y = list(x)\n",
        "y[1] = \"kiwi\"\n",
        "print(y)\n",
        "x = tuple(y)\n",
        "print(x)"
      ],
      "metadata": {
        "colab": {
          "base_uri": "https://localhost:8080/"
        },
        "id": "O8CfB3LalOLz",
        "outputId": "3739c557-aefd-4425-97bd-f8dcd0455e84"
      },
      "execution_count": null,
      "outputs": [
        {
          "output_type": "stream",
          "name": "stdout",
          "text": [
            "['mahesh', 'kiwi', 'ravi']\n",
            "('mahesh', 'kiwi', 'ravi')\n"
          ]
        }
      ]
    },
    {
      "cell_type": "code",
      "source": [
        "thistuple= (\"mahesh\", \"ramesh\", \"ravi\")\n",
        "y = list(thistuple)\n",
        "y.append(\"orange\")\n",
        "thistuple = tuple(y)\n",
        "print(thistuple)"
      ],
      "metadata": {
        "colab": {
          "base_uri": "https://localhost:8080/"
        },
        "id": "twZ7znMmoKVQ",
        "outputId": "d158f3de-520e-47f9-92ae-23c8b218807b"
      },
      "execution_count": null,
      "outputs": [
        {
          "output_type": "stream",
          "name": "stdout",
          "text": [
            "('mahesh', 'ramesh', 'ravi', 'orange')\n"
          ]
        }
      ]
    },
    {
      "cell_type": "code",
      "source": [
        "thistuple =(\"mahesh\", \"ramesh\", \"ravi\")\n",
        "y = (\"orange\",)\n",
        "thistuple += y\n",
        "print(thistuple)"
      ],
      "metadata": {
        "colab": {
          "base_uri": "https://localhost:8080/"
        },
        "id": "T_B0ZV3bpI9x",
        "outputId": "0f3b16d4-32ae-4378-982b-374c1e8e8ee4"
      },
      "execution_count": null,
      "outputs": [
        {
          "output_type": "stream",
          "name": "stdout",
          "text": [
            "('mahesh', 'ramesh', 'ravi', 'orange')\n"
          ]
        }
      ]
    },
    {
      "cell_type": "code",
      "source": [
        "thistuple = (\"mahesh\", \"ramesh\", \"ravi\")\n",
        "y = list(thistuple)\n",
        "y.remove(\"ravi\")\n",
        "thistuple = tuple(y)\n",
        "print(thistuple)"
      ],
      "metadata": {
        "colab": {
          "base_uri": "https://localhost:8080/"
        },
        "id": "QA00cntXqDyv",
        "outputId": "4bc3ac28-73bf-413d-be8d-d7aff68142bb"
      },
      "execution_count": null,
      "outputs": [
        {
          "output_type": "stream",
          "name": "stdout",
          "text": [
            "('mahesh', 'ramesh')\n"
          ]
        }
      ]
    },
    {
      "cell_type": "code",
      "source": [
        "thistuple = (\"apple\", \"banana\", \"cherry\")\n",
        "del thistuple\n",
        "# #this will raise an error because the tuple no longer exists\n",
        "print(thistuple) "
      ],
      "metadata": {
        "colab": {
          "base_uri": "https://localhost:8080/",
          "height": 200
        },
        "id": "wfcIAcUaqT4f",
        "outputId": "8f9f5385-20df-474c-c4c3-7738916809f3"
      },
      "execution_count": null,
      "outputs": [
        {
          "output_type": "error",
          "ename": "NameError",
          "evalue": "ignored",
          "traceback": [
            "\u001b[0;31m---------------------------------------------------------------------------\u001b[0m",
            "\u001b[0;31mNameError\u001b[0m                                 Traceback (most recent call last)",
            "\u001b[0;32m<ipython-input-15-7255dda8a7d6>\u001b[0m in \u001b[0;36m<module>\u001b[0;34m()\u001b[0m\n\u001b[1;32m      1\u001b[0m \u001b[0mthistuple\u001b[0m \u001b[0;34m=\u001b[0m \u001b[0;34m(\u001b[0m\u001b[0;34m\"apple\"\u001b[0m\u001b[0;34m,\u001b[0m \u001b[0;34m\"banana\"\u001b[0m\u001b[0;34m,\u001b[0m \u001b[0;34m\"cherry\"\u001b[0m\u001b[0;34m)\u001b[0m\u001b[0;34m\u001b[0m\u001b[0;34m\u001b[0m\u001b[0m\n\u001b[1;32m      2\u001b[0m \u001b[0;32mdel\u001b[0m \u001b[0mthistuple\u001b[0m\u001b[0;34m\u001b[0m\u001b[0;34m\u001b[0m\u001b[0m\n\u001b[0;32m----> 3\u001b[0;31m \u001b[0mprint\u001b[0m\u001b[0;34m(\u001b[0m\u001b[0mthistuple\u001b[0m\u001b[0;34m)\u001b[0m\u001b[0;34m\u001b[0m\u001b[0;34m\u001b[0m\u001b[0m\n\u001b[0m",
            "\u001b[0;31mNameError\u001b[0m: name 'thistuple' is not defined"
          ]
        }
      ]
    },
    {
      "cell_type": "code",
      "source": [
        "n = int(input(\"Enter the number of rows\"))\n",
        "for i in range(0,n):\n",
        "  for j in range(0,i+1):\n",
        "      print('*',end=\"\")\n",
        "  print()"
      ],
      "metadata": {
        "colab": {
          "base_uri": "https://localhost:8080/"
        },
        "id": "19oDd8qUsjTv",
        "outputId": "a59074c4-a5f1-41a6-a358-b2c9701f33f9"
      },
      "execution_count": null,
      "outputs": [
        {
          "output_type": "stream",
          "name": "stdout",
          "text": [
            "Enter the number of rows5\n",
            "*\n",
            "**\n",
            "***\n",
            "****\n",
            "*****\n"
          ]
        }
      ]
    },
    {
      "cell_type": "code",
      "source": [
        "thistuple = (\"mahesh\", \"ramesh\", \"ravi\")\n",
        "for i in range(len(thistuple)):\n",
        "  print(thistuple[i])"
      ],
      "metadata": {
        "colab": {
          "base_uri": "https://localhost:8080/"
        },
        "id": "Qr8f_W8Aux89",
        "outputId": "f1b70383-7c30-4fe9-c6bd-a18ccbc7b6e2"
      },
      "execution_count": null,
      "outputs": [
        {
          "output_type": "stream",
          "name": "stdout",
          "text": [
            "mahesh\n",
            "ramesh\n",
            "ravi\n"
          ]
        }
      ]
    },
    {
      "cell_type": "code",
      "source": [
        "year=int(input(\"Enter the year: \"))\n",
        "if (year%400==0 and year%100==0):\n",
        "  print('{0} is a lap year'.format(year))\n",
        "elif (year%4==0 and year%100!=0):\n",
        "  print('{0} is a leap year'.format(year))\n",
        "else:\n",
        "  print(\"{0} is not a leap year\".format(year))"
      ],
      "metadata": {
        "colab": {
          "base_uri": "https://localhost:8080/"
        },
        "id": "Xh8DfuTHw2wc",
        "outputId": "0c0639cc-6da7-4853-9882-f12653e5270c"
      },
      "execution_count": null,
      "outputs": [
        {
          "output_type": "stream",
          "name": "stdout",
          "text": [
            "Enter the year 2012\n",
            "2012 is a leap year\n"
          ]
        }
      ]
    },
    {
      "cell_type": "code",
      "source": [
        ""
      ],
      "metadata": {
        "id": "4_TjHFhLftwz"
      },
      "execution_count": null,
      "outputs": []
    }
  ]
}