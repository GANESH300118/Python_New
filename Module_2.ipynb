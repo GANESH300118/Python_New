{
  "nbformat": 4,
  "nbformat_minor": 0,
  "metadata": {
    "colab": {
      "name": "Module-2.ipynb",
      "provenance": [],
      "collapsed_sections": [],
      "authorship_tag": "ABX9TyMwX3nSilwO+bFW4OzYRCzh",
      "include_colab_link": true
    },
    "kernelspec": {
      "name": "python3",
      "display_name": "Python 3"
    },
    "language_info": {
      "name": "python"
    }
  },
  "cells": [
    {
      "cell_type": "markdown",
      "metadata": {
        "id": "view-in-github",
        "colab_type": "text"
      },
      "source": [
        "<a href=\"https://colab.research.google.com/github/GANESH300118/Python_New/blob/Module_2/Module_2.ipynb\" target=\"_parent\"><img src=\"https://colab.research.google.com/assets/colab-badge.svg\" alt=\"Open In Colab\"/></a>"
      ]
    },
    {
      "cell_type": "code",
      "source": [
        "# Factoial in python.\n",
        "import math\n",
        "n=int(input())\n",
        "print(math.factorial(n))"
      ],
      "metadata": {
        "id": "RkjyhHVFXRy8",
        "colab": {
          "base_uri": "https://localhost:8080/"
        },
        "outputId": "9a833704-efbf-4e8c-b349-2f5920f911ab"
      },
      "execution_count": null,
      "outputs": [
        {
          "output_type": "stream",
          "name": "stdout",
          "text": [
            "10\n",
            "3628800\n"
          ]
        }
      ]
    },
    {
      "cell_type": "code",
      "source": [
        "# Create a function which accepts two inputs from the user and compute nCr\n",
        "import math\n",
        "n=int(input())\n",
        "r=int(input())\n",
        "def factorial(n):\n",
        "  x=math.factorial(n)\n",
        "  return x\n",
        "def ncr(n,r):\n",
        "  y=factorial(n)\n",
        "  z=factorial(r)\n",
        "  c=factorial(n-r)\n",
        "  ncr=y/(z*c)\n",
        "  print(ncr)\n",
        "ncr(n,r)"
      ],
      "metadata": {
        "colab": {
          "base_uri": "https://localhost:8080/"
        },
        "id": "4oboWjGkVTOk",
        "outputId": "c830794d-0987-4da8-92e3-2b3628fd50d1"
      },
      "execution_count": null,
      "outputs": [
        {
          "output_type": "stream",
          "name": "stdout",
          "text": [
            "10\n",
            "5\n",
            "252.0\n"
          ]
        }
      ]
    },
    {
      "cell_type": "code",
      "source": [
        "# Recursive function to compute GCD of 2 numbers.\n",
        "def gcd(a,b):\n",
        "    if(b==0):\n",
        "        return a\n",
        "    else:\n",
        "        return gcd(b,a%b)\n",
        "a=int(input(\"Enter first number:\"))\n",
        "b=int(input(\"Enter second number:\"))\n",
        "GCD=gcd(a,b)\n",
        "print(\"GCD is: \")\n",
        "print(GCD)"
      ],
      "metadata": {
        "colab": {
          "base_uri": "https://localhost:8080/"
        },
        "id": "KmOfWiWuo3rx",
        "outputId": "427850e7-4728-427d-d1bc-5450f1dd3b85"
      },
      "execution_count": null,
      "outputs": [
        {
          "output_type": "stream",
          "name": "stdout",
          "text": [
            "Enter first number:5\n",
            "Enter second number:3\n",
            "GCD is: \n",
            "1\n"
          ]
        }
      ]
    },
    {
      "cell_type": "code",
      "source": [
        "# Recursive function to find product of two numbers\n",
        "def product(a,b):\n",
        "  return a*b\n",
        "a=int(input())\n",
        "b=int(input())\n",
        "print('The product of he given numbers is:',product(a,b))"
      ],
      "metadata": {
        "colab": {
          "base_uri": "https://localhost:8080/"
        },
        "id": "kK-Y4jempKd4",
        "outputId": "d37c754c-bc4b-47e4-82df-826fe47b9037"
      },
      "execution_count": null,
      "outputs": [
        {
          "output_type": "stream",
          "name": "stdout",
          "text": [
            "25\n",
            "24\n",
            "The product of he given numbers is: 600\n"
          ]
        }
      ]
    },
    {
      "cell_type": "code",
      "source": [
        "# Recursive function to generate Fibonacci series\n",
        "def recur_fibo(n):\n",
        "   if n <= 1:\n",
        "       return n\n",
        "   else:\n",
        "       return(recur_fibo(n-1) + recur_fibo(n-2))\n",
        "n=int(input('Enter the number of terms requird in fiboacci sequence:'))\n",
        "if n <= 0:\n",
        "   print(\"Plese enter a positive integer\")\n",
        "else:\n",
        "   print(\"Fibonacci sequence:\")\n",
        "   for i in range(n):\n",
        "       print(recur_fibo(i))"
      ],
      "metadata": {
        "colab": {
          "base_uri": "https://localhost:8080/"
        },
        "id": "TCtiEJ2ep9ym",
        "outputId": "2215a33d-3db0-4d98-da13-de06106d38b9"
      },
      "execution_count": null,
      "outputs": [
        {
          "output_type": "stream",
          "name": "stdout",
          "text": [
            "Enter the number of terms requird in fiboacci sequence:20\n",
            "Fibonacci sequence:\n",
            "0\n",
            "1\n",
            "1\n",
            "2\n",
            "3\n",
            "5\n",
            "8\n",
            "13\n",
            "21\n",
            "34\n",
            "55\n",
            "89\n",
            "144\n",
            "233\n",
            "377\n",
            "610\n",
            "987\n",
            "1597\n",
            "2584\n",
            "4181\n"
          ]
        }
      ]
    },
    {
      "cell_type": "code",
      "source": [
        "# Program to print a specified list after removing the 0th, 4th and 5th elements.\n",
        "# Sample List : ['Red', 'Green', 'White', 'Black', 'Pink', 'Yellow']\n",
        "# Expected Output : ['Green', 'White', 'Black']\n",
        "list=['Red','Green','White','Black','Pink','Yellow']\n",
        "print(list[1:4])"
      ],
      "metadata": {
        "colab": {
          "base_uri": "https://localhost:8080/"
        },
        "id": "WbQ2imXtswIC",
        "outputId": "7cbe3801-d634-4078-d93e-3d9d13c375a0"
      },
      "execution_count": null,
      "outputs": [
        {
          "output_type": "stream",
          "name": "stdout",
          "text": [
            "['Green', 'White', 'Black']\n"
          ]
        }
      ]
    },
    {
      "cell_type": "code",
      "source": [
        "# Program to get the difference between the two lists.\n",
        "list1 = [1, 3, 5, 7, 9]\n",
        "list2=[1, 2, 4, 6, 7, 8]\n",
        "diff_list1_list2 = list(set(list1) - set(list2))\n",
        "diff_list2_list1 = list(set(list2) - set(list1))\n",
        "total_diff = diff_list1_list2 + diff_list2_list1\n",
        "print(total_diff)"
      ],
      "metadata": {
        "id": "RCh2jrA6y-Dz",
        "colab": {
          "base_uri": "https://localhost:8080/"
        },
        "outputId": "d7074671-9ea0-4580-e924-42715d2eb81c"
      },
      "execution_count": null,
      "outputs": [
        {
          "output_type": "stream",
          "name": "stdout",
          "text": [
            "[9, 3, 5, 8, 2, 4, 6]\n"
          ]
        }
      ]
    },
    {
      "cell_type": "markdown",
      "source": [
        "# x Program to find the second smallest number and second largest number in a list"
      ],
      "metadata": {
        "id": "epl9Onbt34TG"
      }
    },
    {
      "cell_type": "code",
      "source": [
        "list1=[1,22,33,43,53,64,7,5,86]\n",
        "length = len(list1)\n",
        "list1.sort()\n",
        "print(\"Largest element is:\", list1[length-1])\n",
        "print(\"Smallest element is:\", list1[0])\n",
        "print(\"Second Largest element is:\", list1[length-2])\n",
        "print(\"Second Smallest element is:\", list1[1])"
      ],
      "metadata": {
        "colab": {
          "base_uri": "https://localhost:8080/"
        },
        "id": "wnCPnRinyr8L",
        "outputId": "ad9d9838-0143-41b3-c2a3-56649d314d52"
      },
      "execution_count": null,
      "outputs": [
        {
          "output_type": "stream",
          "name": "stdout",
          "text": [
            "[1, 5, 7, 22, 33, 43, 53, 64, 86]\n",
            "Largest element is: 86\n",
            "Smallest element is: 1\n",
            "Second Largest element is: 64\n",
            "Second Smallest element is: 5\n"
          ]
        }
      ]
    },
    {
      "cell_type": "code",
      "source": [
        "# Given a list of numbers of list, write a Python program to create a list of tuples having first element as the number and second element as the square of the number.\n",
        "import math\n",
        "list1=[37,109,118,347,70,66]\n",
        "list2=[3,5,7,11,13,17,23,29]\n",
        "print(list1)\n",
        "print(list2)\n",
        "tuples1=[(x, pow(x, 2)) for x in list1]\n",
        "tuples2=[(x, pow(x, 2)) for x in list2]\n",
        "print(tuples1)\n",
        "print(tuples2)"
      ],
      "metadata": {
        "id": "5e3K97Udz22i",
        "colab": {
          "base_uri": "https://localhost:8080/"
        },
        "outputId": "1d17c813-a545-4fb3-ed26-3625f65e9f66"
      },
      "execution_count": null,
      "outputs": [
        {
          "output_type": "stream",
          "name": "stdout",
          "text": [
            "[37, 109, 118, 347, 70, 66]\n",
            "[3, 5, 7, 11, 13, 17, 23, 29]\n",
            "[(37, 1369), (109, 11881), (118, 13924), (347, 120409), (70, 4900), (66, 4356)]\n",
            "[(3, 9), (5, 25), (7, 49), (11, 121), (13, 169), (17, 289), (23, 529), (29, 841)]\n"
          ]
        }
      ]
    },
    {
      "cell_type": "code",
      "source": [
        "# Given list of tuples, remove all the tuples with length K. \n",
        "# Input : test_list = [(4, 5), (4, ), (8, 6, 7), (1, ), (3, 4, 6, 7)], K = 2\n",
        "# Output : [(4, ), (8, 6, 7), (1, ), (3, 4, 6, 7)]\n",
        "l=[(4, 5),(4, ),(8, 6, 7),(1, ),(3, 4, 6, 7)]\n",
        "k=int(input(\"Enter the limitimg number:\"))\n",
        "for x in l:\n",
        "  if len(x)!=k:\n",
        "    print([x],end=\"\")"
      ],
      "metadata": {
        "colab": {
          "base_uri": "https://localhost:8080/"
        },
        "id": "3-Ell2Vm18-R",
        "outputId": "3ac0f4c3-2a7a-4b6d-87c8-fb17b8a03ab7"
      },
      "execution_count": null,
      "outputs": [
        {
          "output_type": "stream",
          "name": "stdout",
          "text": [
            "Enter the limitimg number:2\n",
            "[(4,)][(8, 6, 7)][(1,)][(3, 4, 6, 7)]"
          ]
        }
      ]
    },
    {
      "cell_type": "code",
      "source": [
        "# Program to generate and print a dictionary that contains a number (between 1 and n) in the form (x, x*x). \n",
        "n=int(input(\"Input a number \"))\n",
        "d=dict()\n",
        "for x in range(1,n+1):\n",
        "    d[x]=x*x\n",
        "print(d) "
      ],
      "metadata": {
        "colab": {
          "base_uri": "https://localhost:8080/"
        },
        "id": "tWpqxN6e44Cw",
        "outputId": "e3da6282-de73-4aee-aca9-a411526c15fb"
      },
      "execution_count": null,
      "outputs": [
        {
          "output_type": "stream",
          "name": "stdout",
          "text": [
            "Input a number 5\n",
            "{1: 1, 2: 4, 3: 9, 4: 16, 5: 25}\n"
          ]
        }
      ]
    },
    {
      "cell_type": "code",
      "source": [
        "# Program to remove a key from a dictionary.\n",
        "dict1={'a':1,'b':3,'c':12,'d':4}\n",
        "print(dict1)\n",
        "if 'a' in dict1:\n",
        "  del dict1['a']\n",
        "print(dict1)"
      ],
      "metadata": {
        "id": "T9FmxpcY8FYA",
        "colab": {
          "base_uri": "https://localhost:8080/"
        },
        "outputId": "f326d89d-de8f-4252-9217-cdbbce069227"
      },
      "execution_count": null,
      "outputs": [
        {
          "output_type": "stream",
          "name": "stdout",
          "text": [
            "{'a': 1, 'b': 3, 'c': 12, 'd': 4}\n",
            "{'b': 3, 'c': 12, 'd': 4}\n"
          ]
        }
      ]
    },
    {
      "cell_type": "code",
      "source": [
        "# Program to get the maximum and minimum value in a dictionary.\n",
        "my_dict = {'x':996, 'y':5467, 'z':891}\n",
        "key_max = max(my_dict.keys(), key=(lambda k: my_dict[k]))\n",
        "key_min = min(my_dict.keys(), key=(lambda k: my_dict[k]))\n",
        "print('Maximum Value: ',my_dict[key_max])\n",
        "print('Minimum Value: ',my_dict[key_min])"
      ],
      "metadata": {
        "id": "7WliKbCdYpLF",
        "colab": {
          "base_uri": "https://localhost:8080/"
        },
        "outputId": "02d852e3-457d-4ca4-f679-56ee65a6d99b"
      },
      "execution_count": null,
      "outputs": [
        {
          "output_type": "stream",
          "name": "stdout",
          "text": [
            "Maximum Value:  5467\n",
            "Minimum Value:  891\n"
          ]
        }
      ]
    },
    {
      "cell_type": "code",
      "source": [
        "#Q-Program to perform operations on string using unicodes ,splitting of string,accessing elements of string using locations.\n",
        "#1 unicode of strings\n",
        "import re\n",
        "test_str = 'I am alwas worthy and unique'\n",
        "print(\"The original string is : \" + str(test_str))\n",
        "res = (re.sub('.', lambda x: r'\\u % 04X' % ord(x.group()), test_str))\n",
        "print(\"The unicode converted String : \" + str(res))\n",
        "#2 spliting strings\n",
        "text=\"Batman always has robin along his side.\"\n",
        "print(\"The text is {0}\".format(text))\n",
        "print(text.split())\n",
        "#3 accessing the elements in a string\n",
        "string1=\"How are you bro, going to doctor strange today.\"\n",
        "print(\"The string is {0}\".format(string1))\n",
        "print(\"Last character of String is: \")\n",
        "print(string1[-1])"
      ],
      "metadata": {
        "colab": {
          "base_uri": "https://localhost:8080/"
        },
        "id": "FUIgfFo8cBN0",
        "outputId": "fe3204f6-6c85-4447-f8c0-3b241e4501ce"
      },
      "execution_count": null,
      "outputs": [
        {
          "output_type": "stream",
          "name": "stdout",
          "text": [
            "The original string is : I am alwas worthy and unique\n",
            "The unicode converted String : \\u  049\\u  020\\u  061\\u  06D\\u  020\\u  061\\u  06C\\u  077\\u  061\\u  073\\u  020\\u  077\\u  06F\\u  072\\u  074\\u  068\\u  079\\u  020\\u  061\\u  06E\\u  064\\u  020\\u  075\\u  06E\\u  069\\u  071\\u  075\\u  065\n",
            "The text is Batman always has robin along his side.\n",
            "['Batman', 'always', 'has', 'robin', 'along', 'his', 'side.']\n",
            "The string is How are you bro, going to doctor strange today.\n",
            "Last character of String is: \n",
            ".\n"
          ]
        }
      ]
    },
    {
      "cell_type": "code",
      "source": [
        "# Program for Counting occurrence of a certain element in a string, getting indexes that have matching elements.\n",
        "def count(s, c):\n",
        "  res = 0\n",
        "  for i in range(len(s)):\n",
        "    if (s[i] == c):\n",
        "      res = res + 1\n",
        "  return res\n",
        "str= \"Batman always has robin along his side.\"\n",
        "c = 'h'\n",
        "print(count(str, c))"
      ],
      "metadata": {
        "colab": {
          "base_uri": "https://localhost:8080/"
        },
        "id": "qp6JFR3Qdo-o",
        "outputId": "0a6afa24-9654-4a0c-c8b5-f8d794c62591"
      },
      "execution_count": null,
      "outputs": [
        {
          "output_type": "stream",
          "name": "stdout",
          "text": [
            "2\n"
          ]
        }
      ]
    },
    {
      "cell_type": "code",
      "source": [
        "# Program for replacing one substring by another For example.\n",
        "string = input(\"Enter the full string: \")\n",
        "substring = input(\"Enter the substring to be replaced:\")\n",
        "replacing_string = input(\"Enter the string to be replaced:\")\n",
        "print (string.replace(substring, replacing_string))"
      ],
      "metadata": {
        "colab": {
          "base_uri": "https://localhost:8080/"
        },
        "id": "D9CSYYHUhFpV",
        "outputId": "18272716-acc8-4b84-bea3-c7348eaae5f5"
      },
      "execution_count": null,
      "outputs": [
        {
          "output_type": "stream",
          "name": "stdout",
          "text": [
            "Enter the full string: Rabbit\n",
            "Enter the substring to be replaced:bb\n",
            "Enter the string to be replaced:cc\n",
            "Raccit\n"
          ]
        }
      ]
    },
    {
      "cell_type": "code",
      "source": [
        "# Program to Acronym generator for any user input.\n",
        "def fxn(stng):\n",
        "  oupt = stng[0]\n",
        "  for i in range(1, len(stng)):\n",
        "    if stng[i-1] == ' ':\n",
        "      oupt += stng[i]\n",
        "  oupt = oupt.upper()\n",
        "  return oupt  \n",
        "inpt1 = \"Computer Science Engineering\"\n",
        "print(fxn(inpt1))"
      ],
      "metadata": {
        "colab": {
          "base_uri": "https://localhost:8080/"
        },
        "id": "H7OK2w0Fii64",
        "outputId": "7368bee4-d346-4b6f-9a1b-63e3d1d04d08"
      },
      "execution_count": null,
      "outputs": [
        {
          "output_type": "stream",
          "name": "stdout",
          "text": [
            "CSE\n"
          ]
        }
      ]
    },
    {
      "cell_type": "code",
      "source": [
        "# Python function that accepts a string and calculates the number of uppercase letters and lowercase letters.\n",
        "def string_test(s):\n",
        "    d={\"UPPER_CASE\":0, \"LOWER_CASE\":0}\n",
        "    for c in s:\n",
        "        if c.isupper():\n",
        "           d[\"UPPER_CASE\"]+=1\n",
        "        elif c.islower():\n",
        "           d[\"LOWER_CASE\"]+=1\n",
        "        else:\n",
        "           pass\n",
        "    print (\"Original String : \", s)\n",
        "    print (\"No. of Upper case characters:\",d[\"UPPER_CASE\"])\n",
        "    print (\"No. of Lower case Characters:\",d[\"LOWER_CASE\"])\n",
        "string_test('Batman always has Robin along his side.')"
      ],
      "metadata": {
        "colab": {
          "base_uri": "https://localhost:8080/"
        },
        "id": "rDiUGaLDjuf0",
        "outputId": "f0f9f4f8-efba-4002-dbb4-fc3c6479cdea"
      },
      "execution_count": null,
      "outputs": [
        {
          "output_type": "stream",
          "name": "stdout",
          "text": [
            "Original String :  Batman always has Robin along his side.\n",
            "No. of Upper case characters: 2\n",
            "No. of Lower case Characters: 30\n"
          ]
        }
      ]
    },
    {
      "cell_type": "code",
      "source": [
        "# Program to count the number of strings where the string length is 2 or more and the first and last character are same from a given list of strings \n",
        "def match_words(words):\n",
        "  ctr = 0\n",
        "  for word in words:\n",
        "    if len(word) > 1 and word[0] == word[-1]:\n",
        "      ctr += 1\n",
        "  return ctr\n",
        "print(match_words(['abc', 'xyz', 'aba', '1221']))"
      ],
      "metadata": {
        "colab": {
          "base_uri": "https://localhost:8080/"
        },
        "id": "gN6sJ8DjkSvx",
        "outputId": "091f5bed-8197-4977-a841-44030d09a232"
      },
      "execution_count": null,
      "outputs": [
        {
          "output_type": "stream",
          "name": "stdout",
          "text": [
            "2\n"
          ]
        }
      ]
    },
    {
      "cell_type": "code",
      "source": [
        "string = input(\"Enter the full string: \")\n",
        "substring = input(\"Enter the substring to be replaced:\")\n",
        "replacing_string = input(\"Enter the string to be replaced:\")\n",
        "print (string.replace(substring, replacing_string))"
      ],
      "metadata": {
        "colab": {
          "base_uri": "https://localhost:8080/"
        },
        "id": "F0bw4yrklNk3",
        "outputId": "2f707e98-9ea3-478d-f427-6387ed43f2dc"
      },
      "execution_count": null,
      "outputs": [
        {
          "output_type": "stream",
          "name": "stdout",
          "text": [
            "Enter the full string: rabbit\n",
            "Enter the substring to be replaced:bb\n",
            "Enter the string to be replaced:cc\n",
            "raccit\n"
          ]
        }
      ]
    },
    {
      "cell_type": "code",
      "source": [
        ""
      ],
      "metadata": {
        "id": "x1jeuymMmXmk"
      },
      "execution_count": null,
      "outputs": []
    }
  ]
}