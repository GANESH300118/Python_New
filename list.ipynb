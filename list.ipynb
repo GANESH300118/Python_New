{
  "nbformat": 4,
  "nbformat_minor": 0,
  "metadata": {
    "colab": {
      "name": "list.ipynb",
      "provenance": [],
      "collapsed_sections": [],
      "authorship_tag": "ABX9TyMLYXLsmSPXhfVYiRo05SbO",
      "include_colab_link": true
    },
    "kernelspec": {
      "name": "python3",
      "display_name": "Python 3"
    },
    "language_info": {
      "name": "python"
    }
  },
  "cells": [
    {
      "cell_type": "markdown",
      "metadata": {
        "id": "view-in-github",
        "colab_type": "text"
      },
      "source": [
        "<a href=\"https://colab.research.google.com/github/GANESH300118/Python_New/blob/Module_2/list.ipynb\" target=\"_parent\"><img src=\"https://colab.research.google.com/assets/colab-badge.svg\" alt=\"Open In Colab\"/></a>"
      ]
    },
    {
      "cell_type": "code",
      "execution_count": null,
      "metadata": {
        "colab": {
          "base_uri": "https://localhost:8080/"
        },
        "id": "eSL3rkR14cBW",
        "outputId": "9c9ed3f3-432f-4bf3-cfa9-cdeb30c7afa5"
      },
      "outputs": [
        {
          "output_type": "stream",
          "name": "stdout",
          "text": [
            "mango\n",
            "mango\n",
            "pineapple\n",
            "The size of friut is 7\n",
            "['apple', 'orange', 'blueberry', 'bannana', 'pineapple', 'mango', 'grapes']\n",
            "['apple', 'orange', 'bannana', 'pineapple', 'mango', 'grapes']\n",
            "['grapes', 'mango', 'pineapple', 'bannana', 'orange', 'apple']\n",
            "['apple', 'bannana', 'grapes', 'mango', 'orange', 'pineapple']\n",
            "['apple', 'bannana', 'grapes', 'mango', 'orange', 'pineapple']\n",
            "['apple', 'bannana', 'grapes', 'mango', 'orange']\n",
            "['apple', 'bannana', 'grapes']\n",
            "['mango', 'orange', 'pineapple']\n",
            "[]\n"
          ]
        }
      ],
      "source": [
        "friut=['apple', 'orange', 'bannana', 'pineapple', 'mango']\n",
        "print(friut[4])\n",
        "print(friut[-1])\n",
        "print(friut[-2])\n",
        "friut.append('grapes')\n",
        "friut.insert(2,'blueberry')\n",
        "print(\"The size of friut is\",len(friut))\n",
        "print(friut)\n",
        "friut.pop(2)\n",
        "print(friut)\n",
        "(friut.reverse())\n",
        "print(friut)\n",
        "friut.sort()\n",
        "print(friut)\n",
        "b=friut.copy()\n",
        "print(b)\n",
        "print(friut[0:5])\n",
        "print(friut[:3])\n",
        "print(friut[3:])\n",
        "b.clear()\n",
        "print(b)"
      ]
    },
    {
      "cell_type": "code",
      "source": [
        "N=[12,16,45,63]\n",
        "m=[33,69,99,109]\n",
        "print(m[0]+N[2])\n",
        "print(N[0]+N[1]+N[2]+N[3])\n",
        "print(N[0:4]+m[0:4])"
      ],
      "metadata": {
        "colab": {
          "base_uri": "https://localhost:8080/"
        },
        "id": "dwqzQDS45H-g",
        "outputId": "1e4ff4dd-9038-4902-a585-016c555de4d0"
      },
      "execution_count": null,
      "outputs": [
        {
          "output_type": "stream",
          "name": "stdout",
          "text": [
            "[12, 16, 45, 63, 33, 69, 99, 109]\n",
            "78\n",
            "136\n"
          ]
        }
      ]
    },
    {
      "cell_type": "code",
      "source": [
        "a=[1,[3,4,5],7,9,6]\n",
        "print(a[1])\n",
        "print(a[0]+a[3])"
      ],
      "metadata": {
        "colab": {
          "base_uri": "https://localhost:8080/"
        },
        "id": "tmYlc8sO8QIe",
        "outputId": "97bde935-68a0-4dc6-d809-49983d7bae1a"
      },
      "execution_count": null,
      "outputs": [
        {
          "output_type": "stream",
          "name": "stdout",
          "text": [
            "[3, 4, 5]\n",
            "10\n"
          ]
        }
      ]
    },
    {
      "cell_type": "code",
      "source": [
        "a = []\n",
        "for i in range(int(input())):\n",
        "    a.append(int(input()))\n",
        "print(a)"
      ],
      "metadata": {
        "colab": {
          "base_uri": "https://localhost:8080/"
        },
        "id": "MmsrLgcG_eN9",
        "outputId": "140fe598-4730-4c2e-fba4-0b0f0f4dcc5a"
      },
      "execution_count": null,
      "outputs": [
        {
          "output_type": "stream",
          "name": "stdout",
          "text": [
            "5\n",
            "1\n",
            "2\n",
            "3\n",
            "4\n",
            "5\n",
            "[1, 2, 3, 4, 5]\n"
          ]
        }
      ]
    },
    {
      "cell_type": "code",
      "source": [
        "thislist = [\"apple\", \"banana\", \"cherry\"]\n",
        "thistuple = (\"kiwi\", \"orange\")\n",
        "thislist.extend(thistuple)\n",
        "print(thislist)"
      ],
      "metadata": {
        "colab": {
          "base_uri": "https://localhost:8080/"
        },
        "id": "m5Y-qcQMER29",
        "outputId": "5437528e-c3f3-41e8-f753-3dfe7421197a"
      },
      "execution_count": null,
      "outputs": [
        {
          "output_type": "stream",
          "name": "stdout",
          "text": [
            "['apple', 'banana', 'cherry', 'kiwi', 'orange']\n"
          ]
        }
      ]
    },
    {
      "cell_type": "code",
      "source": [
        "friut=['apple', 'orange', 'bannana', 'pineapple', 'mango']\n",
        "print(friut[4])\n",
        "print(friut[-1])\n",
        "print(friut[-2])\n",
        "friut.append('grapes')\n",
        "print(friut)"
      ],
      "metadata": {
        "colab": {
          "base_uri": "https://localhost:8080/"
        },
        "id": "PFepdcf5JVKc",
        "outputId": "403b3052-d918-4123-94b1-41066a648041"
      },
      "execution_count": null,
      "outputs": [
        {
          "output_type": "stream",
          "name": "stdout",
          "text": [
            "mango\n",
            "mango\n",
            "pineapple\n",
            "['apple', 'orange', 'bannana', 'pineapple', 'mango', 'grapes']\n"
          ]
        }
      ]
    },
    {
      "cell_type": "code",
      "source": [
        "friut=['apple', 'orange', 'bannana', 'pineapple', 'mango']\n",
        "print(friut[4])\n",
        "print(friut[-1])\n",
        "print(friut[-2])\n",
        "friut.insert(2,'blueberry')\n",
        "print(friut)"
      ],
      "metadata": {
        "colab": {
          "base_uri": "https://localhost:8080/"
        },
        "id": "t1KFToqlJkBr",
        "outputId": "a3e8115b-7a19-4a6c-8cab-af3f98d808c5"
      },
      "execution_count": null,
      "outputs": [
        {
          "output_type": "stream",
          "name": "stdout",
          "text": [
            "mango\n",
            "mango\n",
            "pineapple\n",
            "['apple', 'orange', 'blueberry', 'bannana', 'pineapple', 'mango']\n"
          ]
        }
      ]
    },
    {
      "cell_type": "code",
      "source": [
        "thislist = [\"apple\", \"banana\", \"cherry\"]\n",
        "thislist[1] = \"blackcurrant\"\n",
        "print(thislist)"
      ],
      "metadata": {
        "colab": {
          "base_uri": "https://localhost:8080/"
        },
        "id": "VtaNKx7DJxW7",
        "outputId": "cb42441d-b521-4581-d9e5-6ae2260a1657"
      },
      "execution_count": null,
      "outputs": [
        {
          "output_type": "stream",
          "name": "stdout",
          "text": [
            "['apple', 'blackcurrant', 'cherry']\n"
          ]
        }
      ]
    },
    {
      "cell_type": "code",
      "source": [
        "thislist = [\"apple\", \"banana\", \"cherry\", \"orange\", \"kiwi\", \"mango\"]\n",
        "thislist[1:3] = [\"blackcurrant\", \"watermelon\"]\n",
        "print(thislist)\n"
      ],
      "metadata": {
        "colab": {
          "base_uri": "https://localhost:8080/"
        },
        "id": "KDPemyQnNCFL",
        "outputId": "da03ad0c-a957-4c74-a1d0-6e87d7e2b675"
      },
      "execution_count": null,
      "outputs": [
        {
          "output_type": "stream",
          "name": "stdout",
          "text": [
            "['apple', 'blackcurrant', 'watermelon', 'orange', 'kiwi', 'mango']\n"
          ]
        }
      ]
    },
    {
      "cell_type": "code",
      "source": [
        "a = '''Lorem ipsum dolor sit amet,\n",
        "consectetur adipiscing elit,\n",
        "sed do eiusmod tempor incididunt\n",
        "ut labore et dolore magna aliqua.'''\n",
        "print(a)"
      ],
      "metadata": {
        "id": "sqnBna74NNIa",
        "colab": {
          "base_uri": "https://localhost:8080/"
        },
        "outputId": "be27b365-4ca6-4f61-eedd-bc573fe233fd"
      },
      "execution_count": null,
      "outputs": [
        {
          "output_type": "stream",
          "name": "stdout",
          "text": [
            "Lorem ipsum dolor sit amet,\n",
            "consectetur adipiscing elit,\n",
            "sed do eiusmod tempor incididunt\n",
            "ut labore et dolore magna aliqua.\n"
          ]
        }
      ]
    },
    {
      "cell_type": "code",
      "source": [
        "a = \"Hello, World!\"\n",
        "print(a[1])"
      ],
      "metadata": {
        "colab": {
          "base_uri": "https://localhost:8080/"
        },
        "id": "_dRmUI-vHCz4",
        "outputId": "a3fc672e-71e4-48cd-f591-e3f4e0251848"
      },
      "execution_count": null,
      "outputs": [
        {
          "output_type": "stream",
          "name": "stdout",
          "text": [
            "e\n"
          ]
        }
      ]
    },
    {
      "cell_type": "code",
      "source": [
        "a = \"Hello, World!\"\n",
        "print(len(a))"
      ],
      "metadata": {
        "colab": {
          "base_uri": "https://localhost:8080/"
        },
        "id": "cEmuQVa1HPYN",
        "outputId": "f45da4a9-cce3-4b8f-84a7-d93553f02e4d"
      },
      "execution_count": null,
      "outputs": [
        {
          "output_type": "stream",
          "name": "stdout",
          "text": [
            "13\n"
          ]
        }
      ]
    },
    {
      "cell_type": "code",
      "source": [
        "# txt = \"The best things in life are free!\"\n",
        "print(\"free\" in txt)\n",
        "txt = \"The best things in life are free!\"\n",
        "print(\"free\" in txt)"
      ],
      "metadata": {
        "colab": {
          "base_uri": "https://localhost:8080/"
        },
        "id": "k-Sm50NnHYtB",
        "outputId": "b8a8bbf1-a081-4cee-8d8b-24583089e3d0"
      },
      "execution_count": null,
      "outputs": [
        {
          "output_type": "stream",
          "name": "stdout",
          "text": [
            "True\n",
            "True\n"
          ]
        }
      ]
    },
    {
      "cell_type": "code",
      "source": [
        "for x in \"banana\":\n",
        "  print(x)"
      ],
      "metadata": {
        "id": "siDohOMxHfvT",
        "colab": {
          "base_uri": "https://localhost:8080/"
        },
        "outputId": "eb5385a1-c69a-4de2-d4bb-66d875715e3f"
      },
      "execution_count": null,
      "outputs": [
        {
          "output_type": "stream",
          "name": "stdout",
          "text": [
            "b\n",
            "a\n",
            "n\n",
            "a\n",
            "n\n",
            "a\n"
          ]
        }
      ]
    },
    {
      "cell_type": "code",
      "source": [
        "for x in range(2, 6):\n",
        "  print(x)\n"
      ],
      "metadata": {
        "colab": {
          "base_uri": "https://localhost:8080/"
        },
        "id": "IWueRzPhbBkX",
        "outputId": "563460b2-55a8-4337-aae3-6a23b61464dd"
      },
      "execution_count": null,
      "outputs": [
        {
          "output_type": "stream",
          "name": "stdout",
          "text": [
            "2\n",
            "3\n",
            "4\n",
            "5\n"
          ]
        }
      ]
    },
    {
      "cell_type": "code",
      "source": [
        "# Write a program of swapping of two numbers (first question)\n",
        "a=2\n",
        "b=3\n",
        "c=a\n",
        "a=b\n",
        "b=c\n",
        "print(\"Result =\",a,b)"
      ],
      "metadata": {
        "colab": {
          "base_uri": "https://localhost:8080/"
        },
        "id": "GJAc-EzrhnNU",
        "outputId": "2afced6e-3dba-4cda-ff3a-61d80fe39007"
      },
      "execution_count": null,
      "outputs": [
        {
          "output_type": "stream",
          "name": "stdout",
          "text": [
            "Result = 3 2\n"
          ]
        }
      ]
    },
    {
      "cell_type": "code",
      "source": [
        "# Find out the square root of the number (2nd question)\n",
        "import math\n",
        "a=int(input())\n",
        "s=math. sqrt(a)\n",
        "print(s)"
      ],
      "metadata": {
        "colab": {
          "base_uri": "https://localhost:8080/"
        },
        "id": "ZEoaUaCVbLkt",
        "outputId": "43e16975-e5c5-44a9-adbd-4aa474119713"
      },
      "execution_count": null,
      "outputs": [
        {
          "output_type": "stream",
          "name": "stdout",
          "text": [
            "4\n",
            "2.0\n"
          ]
        }
      ]
    },
    {
      "cell_type": "code",
      "source": [
        "# Find out the Largest of three numbers from the give input (3rd question)\n",
        "a=5\n",
        "b=3\n",
        "c=2\n",
        "if a>b and b>c:\n",
        "    print(a)\n",
        "elif b>a and a>c:\n",
        "    print(b)\n",
        "else:\n",
        "    print(c)"
      ],
      "metadata": {
        "colab": {
          "base_uri": "https://localhost:8080/"
        },
        "id": "oHtETOhMjEei",
        "outputId": "e2b30ab8-a72e-4a2f-e513-59b6076d512d"
      },
      "execution_count": null,
      "outputs": [
        {
          "output_type": "stream",
          "name": "stdout",
          "text": [
            "5\n"
          ]
        }
      ]
    },
    {
      "cell_type": "code",
      "source": [
        "# Add Black color to the given list in the 4th place, In Rainbow = ['Red', 'Orange', 'Yellow', 'Green'] [4th question]\n",
        "Rainbow = ['Red', 'Orange', 'Yellow', 'Green']\n",
        "Rainbow.insert(3,'Black')\n",
        "print(Rainbow)"
      ],
      "metadata": {
        "colab": {
          "base_uri": "https://localhost:8080/"
        },
        "id": "Sohd-5EXe2QE",
        "outputId": "72aba07c-433f-4518-d441-bd99926bccb0"
      },
      "execution_count": null,
      "outputs": [
        {
          "output_type": "stream",
          "name": "stdout",
          "text": [
            "['Red', 'Orange', 'Yellow', 'Black', 'Green']\n"
          ]
        }
      ]
    },
    {
      "cell_type": "code",
      "source": [
        "a,b,c,d='10','20','30','40'\n",
        "print(int(a))\n",
        "print(int(b))\n",
        "print(int(c))\n",
        "print(int(d))"
      ],
      "metadata": {
        "colab": {
          "base_uri": "https://localhost:8080/"
        },
        "id": "V_yl51gBjzjh",
        "outputId": "71152da3-561e-420f-d895-ea8ac462a826"
      },
      "execution_count": null,
      "outputs": [
        {
          "output_type": "stream",
          "name": "stdout",
          "text": [
            "10\n",
            "20\n",
            "30\n",
            "40\n"
          ]
        }
      ]
    },
    {
      "cell_type": "code",
      "source": [
        "thislist = list((\"apple\", \"banana\", \"cherry\")) # note the double round-brackets\n",
        "print(thislist)"
      ],
      "metadata": {
        "id": "t-9P3SOvliNR",
        "outputId": "0c8485fa-f8c5-468d-a134-a7209a491abb",
        "colab": {
          "base_uri": "https://localhost:8080/"
        }
      },
      "execution_count": null,
      "outputs": [
        {
          "output_type": "stream",
          "name": "stdout",
          "text": [
            "['apple', 'banana', 'cherry']\n"
          ]
        }
      ]
    },
    {
      "cell_type": "code",
      "source": [
        "for x in range(0,100):\n",
        "  print(x)"
      ],
      "metadata": {
        "id": "OqoFaohJv29S",
        "colab": {
          "base_uri": "https://localhost:8080/"
        },
        "outputId": "fd41d5de-06d4-4a2e-8dad-f61b859add6a"
      },
      "execution_count": null,
      "outputs": [
        {
          "output_type": "stream",
          "name": "stdout",
          "text": [
            "0\n",
            "1\n",
            "2\n",
            "3\n",
            "4\n",
            "5\n",
            "6\n",
            "7\n",
            "8\n",
            "9\n",
            "10\n",
            "11\n",
            "12\n",
            "13\n",
            "14\n",
            "15\n",
            "16\n",
            "17\n",
            "18\n",
            "19\n",
            "20\n",
            "21\n",
            "22\n",
            "23\n",
            "24\n",
            "25\n",
            "26\n",
            "27\n",
            "28\n",
            "29\n",
            "30\n",
            "31\n",
            "32\n",
            "33\n",
            "34\n",
            "35\n",
            "36\n",
            "37\n",
            "38\n",
            "39\n",
            "40\n",
            "41\n",
            "42\n",
            "43\n",
            "44\n",
            "45\n",
            "46\n",
            "47\n",
            "48\n",
            "49\n",
            "50\n",
            "51\n",
            "52\n",
            "53\n",
            "54\n",
            "55\n",
            "56\n",
            "57\n",
            "58\n",
            "59\n",
            "60\n",
            "61\n",
            "62\n",
            "63\n",
            "64\n",
            "65\n",
            "66\n",
            "67\n",
            "68\n",
            "69\n",
            "70\n",
            "71\n",
            "72\n",
            "73\n",
            "74\n",
            "75\n",
            "76\n",
            "77\n",
            "78\n",
            "79\n",
            "80\n",
            "81\n",
            "82\n",
            "83\n",
            "84\n",
            "85\n",
            "86\n",
            "87\n",
            "88\n",
            "89\n",
            "90\n",
            "91\n",
            "92\n",
            "93\n",
            "94\n",
            "95\n",
            "96\n",
            "97\n",
            "98\n",
            "99\n"
          ]
        }
      ]
    },
    {
      "cell_type": "code",
      "source": [
        "for x in \"Ganesh\":\n",
        "  print(x)"
      ],
      "metadata": {
        "colab": {
          "base_uri": "https://localhost:8080/"
        },
        "id": "msGuLVUsHX7L",
        "outputId": "bc39399a-c234-4b62-c7b6-fa1159ac95e3"
      },
      "execution_count": null,
      "outputs": [
        {
          "output_type": "stream",
          "name": "stdout",
          "text": [
            "G\n",
            "a\n",
            "n\n",
            "e\n",
            "s\n",
            "h\n"
          ]
        }
      ]
    },
    {
      "cell_type": "code",
      "source": [
        "thislist = [\"apple\", \"banana\", \"cherry\", \"orange\", \"kiwi\", \"melon\", \"mango\"]\n",
        "thislist[3]=\"blackberry\"\n",
        "print(thislist[-2:])\n",
        "print(thislist)\n",
        "thislist[1:3]=[\"leachi\",\"grapes\"]\n",
        "print(thislist)\n",
        "thislist.insert(3,\"blackcurrent\")\n",
        "print(thislist)\n",
        "thislist.append(\"orange\")\n",
        "print(thislist)"
      ],
      "metadata": {
        "colab": {
          "base_uri": "https://localhost:8080/"
        },
        "id": "ChX68DoPHvDC",
        "outputId": "cb0dffed-3cde-41d2-ac94-5f35136a4d84"
      },
      "execution_count": null,
      "outputs": [
        {
          "output_type": "stream",
          "name": "stdout",
          "text": [
            "['melon', 'mango']\n",
            "['apple', 'banana', 'cherry', 'blackberry', 'kiwi', 'melon', 'mango']\n",
            "['apple', 'leachi', 'grapes', 'blackberry', 'kiwi', 'melon', 'mango']\n",
            "['apple', 'leachi', 'grapes', 'blackcurrent', 'blackberry', 'kiwi', 'melon', 'mango']\n",
            "['apple', 'leachi', 'grapes', 'blackcurrent', 'blackberry', 'kiwi', 'melon', 'mango', 'orange']\n"
          ]
        }
      ]
    },
    {
      "cell_type": "code",
      "source": [
        "fruits = [\"apple\", \"banana\", \"cherry\", \"kiwi\", \"mango\"]\n",
        "\n",
        "newlist = [x for x in fruits if \"a\" in x]\n",
        "\n",
        "print(newlist)"
      ],
      "metadata": {
        "id": "RyQCsn5DIesE",
        "outputId": "80feb6ca-b479-4e39-e399-b565d4e1cf84",
        "colab": {
          "base_uri": "https://localhost:8080/"
        }
      },
      "execution_count": null,
      "outputs": [
        {
          "output_type": "stream",
          "name": "stdout",
          "text": [
            "['apple', 'banana', 'mango']\n"
          ]
        }
      ]
    },
    {
      "cell_type": "code",
      "source": [
        ""
      ],
      "metadata": {
        "id": "BzQTC80zCc-O"
      },
      "execution_count": null,
      "outputs": []
    }
  ]
}