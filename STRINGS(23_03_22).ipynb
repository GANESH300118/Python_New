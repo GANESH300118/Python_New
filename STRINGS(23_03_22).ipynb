{
  "nbformat": 4,
  "nbformat_minor": 0,
  "metadata": {
    "colab": {
      "name": "STRINGS(23-03-22).ipynb",
      "provenance": [],
      "collapsed_sections": [],
      "authorship_tag": "ABX9TyNkbaB5nIxLPdjboBR2ZvSu",
      "include_colab_link": true
    },
    "kernelspec": {
      "name": "python3",
      "display_name": "Python 3"
    },
    "language_info": {
      "name": "python"
    }
  },
  "cells": [
    {
      "cell_type": "markdown",
      "metadata": {
        "id": "view-in-github",
        "colab_type": "text"
      },
      "source": [
        "<a href=\"https://colab.research.google.com/github/GANESH300118/Python_New/blob/Module_1/STRINGS(23_03_22).ipynb\" target=\"_parent\"><img src=\"https://colab.research.google.com/assets/colab-badge.svg\" alt=\"Open In Colab\"/></a>"
      ]
    },
    {
      "cell_type": "code",
      "execution_count": null,
      "metadata": {
        "id": "X9QcTcsa3xXI",
        "colab": {
          "base_uri": "https://localhost:8080/"
        },
        "outputId": "19a8b8ca-2d6e-4f2e-9bb9-dac1ebb867b6"
      },
      "outputs": [
        {
          "output_type": "stream",
          "name": "stdout",
          "text": [
            "I started from my home which is in gopalapatnam by the collage bus,\n",
            " which droped opposite of the KRC block,\n",
            "I walked from KRC to ICT room no.219 where my python class is starting at 9:00 am\n",
            "True\n",
            "False\n",
            "False\n",
            "The lenghth of the string is 190\n"
          ]
        }
      ],
      "source": [
        "a=\"\"\"I started from my home which is in gopalapatnam by the collage bus,\n",
        " which droped opposite of the KRC block,\n",
        "I walked from KRC to ICT room no.219 where my python class is starting at 9:00 am\"\"\"\n",
        "print(a)\n",
        "# length of the string is len(a)\n",
        "# checking string for words \n",
        "print(\"opposite\" in a)\n",
        "print(\"gross\" in a)\n",
        "print('Opposite' in a)\n",
        "print('The lenghth of the string is',len(a))"
      ]
    },
    {
      "cell_type": "code",
      "source": [
        "# if not\n",
        "a=\"\"\"I started from my home which is in gopalapatnam by the collage bus,\n",
        " which droped opposite of the KRC block,\n",
        "I walked from KRC to ICT room no.219 where my python class is starting at 9:00 am\"\"\"\n",
        "print(\"class\" not in a)\n",
        "print('red' not in a)\n",
        "print(\"class\" in a,\"python\" not in a)"
      ],
      "metadata": {
        "colab": {
          "base_uri": "https://localhost:8080/"
        },
        "id": "ZdX1eWCO-y4Z",
        "outputId": "285e4142-a36f-4a4d-aa03-e744989f2a0b"
      },
      "execution_count": null,
      "outputs": [
        {
          "output_type": "stream",
          "name": "stdout",
          "text": [
            "False\n",
            "True\n",
            "True False\n"
          ]
        }
      ]
    },
    {
      "cell_type": "code",
      "source": [
        "# Slicing strings\n",
        "a='RRR movie was awesome'\n",
        "print(a[4:21],a[:9])\n",
        "print(a[2:10])\n",
        "print(a[-21:-1])"
      ],
      "metadata": {
        "colab": {
          "base_uri": "https://localhost:8080/"
        },
        "id": "giezwDdwBi85",
        "outputId": "3fdb9fcb-e16a-4e8f-9855-aea9c04e09d7"
      },
      "execution_count": null,
      "outputs": [
        {
          "output_type": "stream",
          "name": "stdout",
          "text": [
            "movie was awesome RRR movie\n",
            "R movie \n",
            "RRR movie was awesom\n"
          ]
        }
      ]
    },
    {
      "cell_type": "code",
      "source": [
        "# Reverse of a string.\n",
        "a='I am going to top the coming examinations'\n",
        "print((a))"
      ],
      "metadata": {
        "colab": {
          "base_uri": "https://localhost:8080/"
        },
        "id": "IojgBEi9EsiX",
        "outputId": "c96adba0-d43a-4070-f8f9-e20947387a01"
      },
      "execution_count": null,
      "outputs": [
        {
          "output_type": "stream",
          "name": "stdout",
          "text": [
            "I am going to top the coming examinations\n"
          ]
        }
      ]
    },
    {
      "cell_type": "code",
      "source": [
        "# Modifying a string.\n",
        "a='  I am going to top the coming examinations   '\n",
        "print(a.upper())\n",
        "print(a.lower())\n",
        "print(a.strip())\n",
        "print(a.replace('a','C'))\n",
        "print(a.split(\" \"))"
      ],
      "metadata": {
        "colab": {
          "base_uri": "https://localhost:8080/"
        },
        "id": "fAFDB3bQFyWB",
        "outputId": "3eed602f-a29d-489f-e0a5-86000c4cd7af"
      },
      "execution_count": null,
      "outputs": [
        {
          "output_type": "stream",
          "name": "stdout",
          "text": [
            "  I AM GOING TOP THE COMING EXAMINATIONS   \n",
            "  i am going top the coming examinations   \n",
            "I am going top the coming examinations\n",
            "  I Cm going top the coming exCminCtions   \n",
            "['', '', 'I', 'am', 'going', 'top', 'the', 'coming', 'examinations', '', '', '']\n"
          ]
        }
      ]
    },
    {
      "cell_type": "code",
      "source": [
        "# string concatenation or addition of strins\n",
        "a=\"\"\"I started from my home which is in gopalapatnam by the collage bus,\n",
        " which droped opposite of the KRC block,\n",
        "I walked from KRC to ICT room no.219 where my python class is starting at 9:00 am\"\"\"\n",
        "b='\\nRRR movie was awesome'\n",
        "print(a+\" \"+b)"
      ],
      "metadata": {
        "colab": {
          "base_uri": "https://localhost:8080/"
        },
        "id": "sGdG0d-PGmGH",
        "outputId": "e6c1f0f5-b407-42d2-af7b-b739c721d323"
      },
      "execution_count": null,
      "outputs": [
        {
          "output_type": "stream",
          "name": "stdout",
          "text": [
            "I started from my home which is in gopalapatnam by the collage bus,\n",
            " which droped opposite of the KRC block,\n",
            "I walked from KRC to ICT room no.219 where my python class is starting at 9:00 am \n",
            "RRR movie was awesome\n"
          ]
        }
      ]
    },
    {
      "cell_type": "code",
      "source": [
        "university='gitam'\n",
        "age = 36\n",
        "a= \"My name is John, I am {0}\\n and I am studying in {1}\"\n",
        "print(a.format(age,university))"
      ],
      "metadata": {
        "colab": {
          "base_uri": "https://localhost:8080/"
        },
        "id": "9ApoHiQEKhyH",
        "outputId": "de15fdbf-8056-4766-eb65-cb9388b1877b"
      },
      "execution_count": null,
      "outputs": [
        {
          "output_type": "stream",
          "name": "stdout",
          "text": [
            "My name is John, I am 36\n",
            " and I am studying in gitam\n"
          ]
        }
      ]
    },
    {
      "cell_type": "code",
      "source": [
        "a= \"We are the so-called \\\"Vikings\\\" from the north.\"\n",
        "b= \"We are \\\\the so-called \\\"Vikings\\\" from the north.\"\n",
        "c= \"We are the \\bso-called \\\"Vikings\\\" from the north.\"\n",
        "d= \"We are the \\rso-called \\\"Vikings\\\" from the north.\"\n",
        "e = \"We are the \\fso-called \\\"Vikings\\\" from the north.\"\n",
        "f= \"We are the \\nso-called \\\"Vikings\\\" from the north.\"\n",
        "print(a)\n",
        "print(b)\n",
        "print(c)\n",
        "print(d)\n",
        "print(e)\n",
        "print(f)"
      ],
      "metadata": {
        "colab": {
          "base_uri": "https://localhost:8080/"
        },
        "id": "086RGnbuNz0W",
        "outputId": "e7b81377-83a0-4e0a-8366-35b16641c502"
      },
      "execution_count": null,
      "outputs": [
        {
          "output_type": "stream",
          "name": "stdout",
          "text": [
            "We are the so-called \"Vikings\" from the north.\n",
            "We are \\the so-called \"Vikings\" from the north.\n",
            "We are the \bso-called \"Vikings\" from the north.\n",
            "We are the \rso-called \"Vikings\" from the north.\n",
            "We are the \fso-called \"Vikings\" from the north.\n",
            "We are the \n",
            "so-called \"Vikings\" from the north.\n"
          ]
        }
      ]
    },
    {
      "cell_type": "code",
      "source": [
        ""
      ],
      "metadata": {
        "id": "pIXWB8S1PXxG"
      },
      "execution_count": null,
      "outputs": []
    }
  ]
}