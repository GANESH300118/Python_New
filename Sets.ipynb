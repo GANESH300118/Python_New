{
  "nbformat": 4,
  "nbformat_minor": 0,
  "metadata": {
    "colab": {
      "name": "Sets.ipynb",
      "provenance": [],
      "collapsed_sections": [],
      "authorship_tag": "ABX9TyPhASEVJpVoqCwy/RKyhJSi",
      "include_colab_link": true
    },
    "kernelspec": {
      "name": "python3",
      "display_name": "Python 3"
    },
    "language_info": {
      "name": "python"
    }
  },
  "cells": [
    {
      "cell_type": "markdown",
      "metadata": {
        "id": "view-in-github",
        "colab_type": "text"
      },
      "source": [
        "<a href=\"https://colab.research.google.com/github/GANESH300118/Python_New/blob/Module_2/Sets.ipynb\" target=\"_parent\"><img src=\"https://colab.research.google.com/assets/colab-badge.svg\" alt=\"Open In Colab\"/></a>"
      ]
    },
    {
      "cell_type": "code",
      "execution_count": null,
      "metadata": {
        "colab": {
          "base_uri": "https://localhost:8080/"
        },
        "id": "O1GczsDB0ZkO",
        "outputId": "5d03f945-b1c5-46a5-fc8c-0b4ade02b4db"
      },
      "outputs": [
        {
          "output_type": "stream",
          "name": "stdout",
          "text": [
            "4\n"
          ]
        }
      ],
      "source": [
        "thisset = {\"Harish\",\"Mahesh\", \"Divya\", \"Sonu\"}\n",
        "print(len(thisset))"
      ]
    },
    {
      "cell_type": "code",
      "source": [
        "thisset = set((\"Mahesh\", \"Divya\", \"Sonu\")) # note the double round-brackets\n",
        "print(thisset)"
      ],
      "metadata": {
        "colab": {
          "base_uri": "https://localhost:8080/"
        },
        "id": "E6qq27Jt2C3H",
        "outputId": "61af9691-7148-40e2-ec34-830c4a6c606b"
      },
      "execution_count": null,
      "outputs": [
        {
          "output_type": "stream",
          "name": "stdout",
          "text": [
            "{'Mahesh', 'Divya', 'Sonu'}\n"
          ]
        }
      ]
    },
    {
      "cell_type": "code",
      "source": [
        "thisset = {\"Mahesh\", \"Divya\", \"Sonu\"}\n",
        "print(\"Mahesh\" in thisset)\n",
        "print(\"banana\" in thisset)"
      ],
      "metadata": {
        "colab": {
          "base_uri": "https://localhost:8080/"
        },
        "id": "e2UGkkgV2VPI",
        "outputId": "8ab9d235-815d-487a-8a83-ea737098a3be"
      },
      "execution_count": null,
      "outputs": [
        {
          "output_type": "stream",
          "name": "stdout",
          "text": [
            "True\n",
            "False\n"
          ]
        }
      ]
    },
    {
      "cell_type": "code",
      "source": [
        "thisset = {\"Mahesh\", \"Divya\", \"Sonu\"}\n",
        "for x in thisset:\n",
        "  print(x)"
      ],
      "metadata": {
        "colab": {
          "base_uri": "https://localhost:8080/"
        },
        "id": "ZyUlk71L2r_w",
        "outputId": "682d023e-f5ff-4133-a626-7189b42b6ad7"
      },
      "execution_count": null,
      "outputs": [
        {
          "output_type": "stream",
          "name": "stdout",
          "text": [
            "Mahesh\n",
            "Divya\n",
            "Sonu\n"
          ]
        }
      ]
    },
    {
      "cell_type": "code",
      "source": [
        "thisset = {\"Mahesh\", \"Divya\", \"Sonu\"}\n",
        "thisset.add(\"ravi\")\n",
        "print(thisset)"
      ],
      "metadata": {
        "colab": {
          "base_uri": "https://localhost:8080/"
        },
        "id": "En1OJtZ42_zb",
        "outputId": "ce5a51dd-5f37-43eb-d1f5-1817808a3866"
      },
      "execution_count": null,
      "outputs": [
        {
          "output_type": "stream",
          "name": "stdout",
          "text": [
            "{'Mahesh', 'ravi', 'Divya', 'Sonu'}\n"
          ]
        }
      ]
    },
    {
      "cell_type": "code",
      "source": [
        "a=(1,2,3,4,1,3,1,4,5,6,3,3,2,4)\n",
        "print(a)\n",
        "b=list(a)\n",
        "print('The list of a is',b)\n",
        "for i in list(b):\n",
        "  if i==1:\n",
        "    b.remove(i)\n",
        "    d=tuple(b)\n",
        "    print('The tuple of a is',d)\n",
        "c=set(a)\n",
        "print('The set of a is',c)"
      ],
      "metadata": {
        "colab": {
          "base_uri": "https://localhost:8080/"
        },
        "id": "JgYuET3a3MWM",
        "outputId": "5c2d4053-2c0f-44dd-8333-a9a3878153b3"
      },
      "execution_count": null,
      "outputs": [
        {
          "output_type": "stream",
          "name": "stdout",
          "text": [
            "(1, 2, 3, 4, 1, 3, 1, 4, 5, 6, 3, 3, 2, 4)\n",
            "The list of a is [1, 2, 3, 4, 1, 3, 1, 4, 5, 6, 3, 3, 2, 4]\n",
            "The tuple of a is (2, 3, 4, 1, 3, 1, 4, 5, 6, 3, 3, 2, 4)\n",
            "The tuple of a is (2, 3, 4, 3, 1, 4, 5, 6, 3, 3, 2, 4)\n",
            "The tuple of a is (2, 3, 4, 3, 4, 5, 6, 3, 3, 2, 4)\n",
            "The set of a is {1, 2, 3, 4, 5, 6}\n"
          ]
        }
      ]
    },
    {
      "cell_type": "code",
      "source": [
        "thisset = {\"Harish\",\"Mahesh\", \"Divya\", \"Sonu\"}\n",
        "print(thisset)"
      ],
      "metadata": {
        "id": "agN2xRQL3ul4",
        "colab": {
          "base_uri": "https://localhost:8080/"
        },
        "outputId": "bb6a4628-c64a-4f3b-ca40-88fbb4f4d189"
      },
      "execution_count": null,
      "outputs": [
        {
          "output_type": "stream",
          "name": "stdout",
          "text": [
            "{'Mahesh', 'Divya', 'Sonu', 'Harish'}\n"
          ]
        }
      ]
    },
    {
      "cell_type": "code",
      "source": [
        "thisset = {\"Harish\",\"Mahesh\", \"Divya\", \"Sonu\"}\n",
        "for x in thisset:\n",
        "  print(x)"
      ],
      "metadata": {
        "colab": {
          "base_uri": "https://localhost:8080/"
        },
        "id": "ugDEq74WTMSn",
        "outputId": "bc4b628a-8c1c-42ed-f52a-f64b1e1891ec"
      },
      "execution_count": null,
      "outputs": [
        {
          "output_type": "stream",
          "name": "stdout",
          "text": [
            "Mahesh\n",
            "Divya\n",
            "Sonu\n",
            "Harish\n"
          ]
        }
      ]
    },
    {
      "cell_type": "code",
      "source": [
        "thisset = {\"Harish\",\"Mahesh\", \"Divya\", \"Sonu\"}\n",
        "print(\"harish\" in thisset)\n",
        "print(\"Harish\" in thisset)"
      ],
      "metadata": {
        "colab": {
          "base_uri": "https://localhost:8080/"
        },
        "id": "uoREqGGwUXV0",
        "outputId": "2ad73044-ab98-4f6f-a21d-684227234261"
      },
      "execution_count": null,
      "outputs": [
        {
          "output_type": "stream",
          "name": "stdout",
          "text": [
            "False\n",
            "True\n"
          ]
        }
      ]
    },
    {
      "cell_type": "code",
      "source": [
        "thisset = {\"Harish\",\"Mahesh\", \"Divya\", \"Sonu\"}\n",
        "thisset.add(\"orange\")\n",
        "print(thisset)"
      ],
      "metadata": {
        "colab": {
          "base_uri": "https://localhost:8080/"
        },
        "id": "-M2HndqRUkEC",
        "outputId": "07a112cc-a887-49e1-e5b8-ff15bbcbe9e8"
      },
      "execution_count": null,
      "outputs": [
        {
          "output_type": "stream",
          "name": "stdout",
          "text": [
            "{'Divya', 'orange', 'Sonu', 'Harish', 'Mahesh'}\n"
          ]
        }
      ]
    },
    {
      "cell_type": "code",
      "source": [
        "thisset = {\"Harish\",\"Mahesh\", \"Divya\", \"Sonu\"}\n",
        "tropical = {\"pineapple\", \"mango\", \"papaya\"}\n",
        "thisset.update(tropical)\n",
        "print(thisset)"
      ],
      "metadata": {
        "colab": {
          "base_uri": "https://localhost:8080/"
        },
        "id": "X2Bx35qdVSwB",
        "outputId": "dd492322-54d7-48ee-88e8-2fa4d02e0569"
      },
      "execution_count": null,
      "outputs": [
        {
          "output_type": "stream",
          "name": "stdout",
          "text": [
            "{'mango', 'Divya', 'Harish', 'pineapple', 'Mahesh', 'Sonu', 'papaya'}\n"
          ]
        }
      ]
    },
    {
      "cell_type": "code",
      "source": [
        "thisset = {\"Harish\",\"Mahesh\", \"Divya\", \"Sonu\"}\n",
        "thisset.remove(\"Divya\")\n",
        "print(thisset)"
      ],
      "metadata": {
        "colab": {
          "base_uri": "https://localhost:8080/"
        },
        "id": "E4abw5IsVfQA",
        "outputId": "a8d42e6d-4941-47f4-8cea-614f2b68fd48"
      },
      "execution_count": null,
      "outputs": [
        {
          "output_type": "stream",
          "name": "stdout",
          "text": [
            "{'Mahesh', 'Sonu', 'Harish'}\n"
          ]
        }
      ]
    },
    {
      "cell_type": "code",
      "source": [
        "thisset = {\"Harish\",\"Mahesh\", \"Divya\", \"Sonu\"}\n",
        "thisset.discard(\"Divya\")\n",
        "print(thisset)"
      ],
      "metadata": {
        "colab": {
          "base_uri": "https://localhost:8080/"
        },
        "id": "tEYbujImWgJP",
        "outputId": "15e38278-774f-4a9e-c7c0-cbcf5b9c6f9e"
      },
      "execution_count": null,
      "outputs": [
        {
          "output_type": "stream",
          "name": "stdout",
          "text": [
            "{'Mahesh', 'Sonu', 'Harish'}\n"
          ]
        }
      ]
    },
    {
      "cell_type": "code",
      "source": [
        "thisset = {\"Harish\",\"Mahesh\", \"Divya\", \"Sonu\"}\n",
        "x = thisset.pop()\n",
        "print(x)\n",
        "print(thisset)"
      ],
      "metadata": {
        "colab": {
          "base_uri": "https://localhost:8080/"
        },
        "id": "iq6pH6rhWtFv",
        "outputId": "6b115a36-ccea-4ab1-dfd2-75c1be4afb78"
      },
      "execution_count": null,
      "outputs": [
        {
          "output_type": "stream",
          "name": "stdout",
          "text": [
            "Mahesh\n",
            "{'Divya', 'Sonu', 'Harish'}\n"
          ]
        }
      ]
    },
    {
      "cell_type": "code",
      "source": [
        "thisset = {\"Harish\",\"Mahesh\", \"Divya\", \"Sonu\"}\n",
        "thisset.clear()\n",
        "print(thisset)"
      ],
      "metadata": {
        "colab": {
          "base_uri": "https://localhost:8080/"
        },
        "id": "NFFW6GocW75t",
        "outputId": "3d7fbc33-0c0f-4bb0-d9eb-ec813515e474"
      },
      "execution_count": null,
      "outputs": [
        {
          "output_type": "stream",
          "name": "stdout",
          "text": [
            "set()\n"
          ]
        }
      ]
    },
    {
      "cell_type": "code",
      "source": [
        "# This error occurs due to the fact that (\" del thisset\") is used and the set doesn't exist.\n",
        "thisset = {\"Harish\",\"Mahesh\", \"Divya\", \"Sonu\"}\n",
        "del thisset\n",
        "print(thisset)"
      ],
      "metadata": {
        "colab": {
          "base_uri": "https://localhost:8080/",
          "height": 200
        },
        "id": "zn501GeNXhQd",
        "outputId": "bb0d0ed8-5f57-4078-e1ad-7bc4de4e0fac"
      },
      "execution_count": null,
      "outputs": [
        {
          "output_type": "error",
          "ename": "NameError",
          "evalue": "ignored",
          "traceback": [
            "\u001b[0;31m---------------------------------------------------------------------------\u001b[0m",
            "\u001b[0;31mNameError\u001b[0m                                 Traceback (most recent call last)",
            "\u001b[0;32m<ipython-input-16-7de6b3d77e71>\u001b[0m in \u001b[0;36m<module>\u001b[0;34m()\u001b[0m\n\u001b[1;32m      2\u001b[0m \u001b[0mthisset\u001b[0m \u001b[0;34m=\u001b[0m \u001b[0;34m{\u001b[0m\u001b[0;34m\"Harish\"\u001b[0m\u001b[0;34m,\u001b[0m\u001b[0;34m\"Mahesh\"\u001b[0m\u001b[0;34m,\u001b[0m \u001b[0;34m\"Divya\"\u001b[0m\u001b[0;34m,\u001b[0m \u001b[0;34m\"Sonu\"\u001b[0m\u001b[0;34m}\u001b[0m\u001b[0;34m\u001b[0m\u001b[0;34m\u001b[0m\u001b[0m\n\u001b[1;32m      3\u001b[0m \u001b[0;32mdel\u001b[0m \u001b[0mthisset\u001b[0m\u001b[0;34m\u001b[0m\u001b[0;34m\u001b[0m\u001b[0m\n\u001b[0;32m----> 4\u001b[0;31m \u001b[0mprint\u001b[0m\u001b[0;34m(\u001b[0m\u001b[0mthisset\u001b[0m\u001b[0;34m)\u001b[0m\u001b[0;34m\u001b[0m\u001b[0;34m\u001b[0m\u001b[0m\n\u001b[0m",
            "\u001b[0;31mNameError\u001b[0m: name 'thisset' is not defined"
          ]
        }
      ]
    },
    {
      "cell_type": "code",
      "source": [
        "# The union() method returns a new set with all items from both sets:\n",
        "set1 = {\"Harish\",\"Mahesh\", \"Divya\", \"Sonu\"}\n",
        "set2 = {1, 2, 3}\n",
        "set3 = set1.union(set2)\n",
        "print(set3)"
      ],
      "metadata": {
        "colab": {
          "base_uri": "https://localhost:8080/"
        },
        "id": "-L_9EOmjYHSb",
        "outputId": "723150bd-e0c4-4205-a4be-cc58b4c48220"
      },
      "execution_count": null,
      "outputs": [
        {
          "output_type": "stream",
          "name": "stdout",
          "text": [
            "{1, 2, 'Divya', 3, 'Harish', 'Mahesh', 'Sonu'}\n"
          ]
        }
      ]
    },
    {
      "cell_type": "code",
      "source": [
        "# The update() method inserts the items in set2 into set1:\n",
        "# Note: Both union() and update() will exclude any duplicate items.\n",
        "set1 = {\"Harish\",\"Mahesh\", \"Divya\", \"Sonu\"}\n",
        "set2 = {1, 2, 3}\n",
        "set1.update(set2)\n",
        "print(set1)"
      ],
      "metadata": {
        "colab": {
          "base_uri": "https://localhost:8080/"
        },
        "id": "QceoW5HjYlJK",
        "outputId": "3be7851c-795e-4f21-906f-c88d068702b0"
      },
      "execution_count": null,
      "outputs": [
        {
          "output_type": "stream",
          "name": "stdout",
          "text": [
            "{1, 2, 'Divya', 3, 'Harish', 'Mahesh', 'Sonu'}\n"
          ]
        }
      ]
    },
    {
      "cell_type": "code",
      "source": [
        "# The intersection_update() method will keep only the items that are present in both sets.\n",
        "x = {\"apple\", \"banana\", \"cherry\"}\n",
        "y = {\"google\", \"microsoft\", \"apple\"}\n",
        "x.intersection_update(y)\n",
        "print(x)"
      ],
      "metadata": {
        "colab": {
          "base_uri": "https://localhost:8080/"
        },
        "id": "PLEI5uXRZjEI",
        "outputId": "a73c5802-cb4f-421a-f616-5b41ca6fd0f9"
      },
      "execution_count": null,
      "outputs": [
        {
          "output_type": "stream",
          "name": "stdout",
          "text": [
            "{'apple'}\n"
          ]
        }
      ]
    },
    {
      "cell_type": "code",
      "source": [
        "# The intersection() method will return a new set, that only contains the items that are present in both sets.\n",
        "x = {\"apple\", \"banana\", \"cherry\",\"google\"}\n",
        "y = {\"google\", \"microsoft\", \"apple\"}\n",
        "z = x.intersection(y)\n",
        "print(z)"
      ],
      "metadata": {
        "colab": {
          "base_uri": "https://localhost:8080/"
        },
        "id": "_kc05y2aaJwn",
        "outputId": "1c2fadb4-3d06-4512-bda2-b5aa74facf81"
      },
      "execution_count": null,
      "outputs": [
        {
          "output_type": "stream",
          "name": "stdout",
          "text": [
            "{'google', 'apple'}\n"
          ]
        }
      ]
    },
    {
      "cell_type": "code",
      "source": [
        "# The symmetric_difference_update() method will keep only the elements that are NOT present in both sets.\n",
        "x = {\"apple\", \"banana\", \"cherry\",\"google\"}\n",
        "y = {\"google\", \"microsoft\", \"apple\"}\n",
        "x.symmetric_difference_update(y)\n",
        "print(x)"
      ],
      "metadata": {
        "colab": {
          "base_uri": "https://localhost:8080/"
        },
        "id": "OAAvn1B3ae0G",
        "outputId": "d4903882-e6ed-4958-b678-38dac5a99634"
      },
      "execution_count": null,
      "outputs": [
        {
          "output_type": "stream",
          "name": "stdout",
          "text": [
            "{'cherry', 'banana', 'microsoft'}\n"
          ]
        }
      ]
    },
    {
      "cell_type": "code",
      "source": [
        "# The symmetric_difference() method will return a new set, that contains only the elements that are NOT present in both sets.\n",
        "x = {\"apple\", \"banana\", \"cherry\",\"google\"}\n",
        "y = {\"google\", \"microsoft\", \"apple\"}\n",
        "z = x.symmetric_difference(y)\n",
        "print(z)"
      ],
      "metadata": {
        "colab": {
          "base_uri": "https://localhost:8080/"
        },
        "id": "MR2OD4z1bS62",
        "outputId": "1f688598-5809-408e-d87a-5058288ba346"
      },
      "execution_count": null,
      "outputs": [
        {
          "output_type": "stream",
          "name": "stdout",
          "text": [
            "{'banana', 'cherry', 'microsoft'}\n"
          ]
        }
      ]
    },
    {
      "cell_type": "code",
      "source": [
        ""
      ],
      "metadata": {
        "id": "1GHMVDwub40m"
      },
      "execution_count": null,
      "outputs": []
    }
  ]
}