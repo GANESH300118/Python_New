{
  "cells": [
    {
      "cell_type": "markdown",
      "metadata": {
        "id": "view-in-github",
        "colab_type": "text"
      },
      "source": [
        "<a href=\"https://colab.research.google.com/github/GANESH300118/Python_New/blob/Module_1/DATATYPES.ipynb\" target=\"_parent\"><img src=\"https://colab.research.google.com/assets/colab-badge.svg\" alt=\"Open In Colab\"/></a>"
      ]
    },
    {
      "cell_type": "markdown",
      "id": "34191c9d",
      "metadata": {
        "id": "34191c9d"
      },
      "source": [
        "# CONVERTING INT TO STRING, FLOAT, BOOLEAN, COMPLEX"
      ]
    },
    {
      "cell_type": "code",
      "execution_count": null,
      "id": "f3c463a3",
      "metadata": {
        "id": "f3c463a3",
        "outputId": "7797870a-be7b-4851-914b-0d56047d3f20"
      },
      "outputs": [
        {
          "name": "stdout",
          "output_type": "stream",
          "text": [
            "10\n",
            "<class 'int'>\n",
            "10\n",
            "<class 'str'>\n",
            "10.0\n",
            "<class 'float'>\n",
            "True\n",
            "<class 'bool'>\n",
            "(10+0j)\n",
            "<class 'complex'>\n"
          ]
        }
      ],
      "source": [
        "A=10\n",
        "print(A)\n",
        "# before coversion\n",
        "print(type(A))\n",
        "B=str(A)\n",
        "print(B)\n",
        "# after conversion\n",
        "print(type(B))\n",
        "c=float(A)\n",
        "print(c)\n",
        "print(type(c))\n",
        "d=bool(A)\n",
        "print(d)\n",
        "print(type(d))\n",
        "e=complex(A)\n",
        "print(e)\n",
        "print(type(e))"
      ]
    },
    {
      "cell_type": "markdown",
      "id": "6ac02c97",
      "metadata": {
        "id": "6ac02c97"
      },
      "source": [
        "# CONVERTING INT TO STRING, FLOAT, BOOLEAN, COMPLEX\n",
        "## converting string to int, boolean, float, complex."
      ]
    },
    {
      "cell_type": "code",
      "execution_count": null,
      "id": "f7b65111",
      "metadata": {
        "id": "f7b65111",
        "outputId": "2c487e63-ecc4-48cd-c128-229806f27f7d"
      },
      "outputs": [
        {
          "name": "stdout",
          "output_type": "stream",
          "text": [
            "10\n",
            "<class 'str'>\n",
            "10\n",
            "<class 'int'>\n",
            "ten\n",
            "<class 'str'>\n",
            "10.0\n",
            "<class 'float'>\n",
            "True\n",
            "<class 'bool'>\n",
            "(10+0j)\n",
            "<class 'complex'>\n"
          ]
        }
      ],
      "source": [
        "a='10'\n",
        "print(a)\n",
        "print(type(a))\n",
        "b=int(a)\n",
        "print(b)\n",
        "print(type(b))\n",
        "c='ten'\n",
        "print(c)\n",
        "print(type(c))\n",
        "# We cannot conver alphabets into intger.\n",
        "# Instead give digits to convert into intgers(0-9).\n",
        "e=float(a)\n",
        "print(e)\n",
        "print(type(e))\n",
        "f=bool(a)\n",
        "print(f)\n",
        "print(type(f))\n",
        "g=complex(a)\n",
        "print(g)\n",
        "print(type(g))"
      ]
    },
    {
      "cell_type": "markdown",
      "id": "b53cbea3",
      "metadata": {
        "id": "b53cbea3"
      },
      "source": [
        "# Converting float to int, string, boolean, complex."
      ]
    },
    {
      "cell_type": "code",
      "execution_count": null,
      "id": "04817e3e",
      "metadata": {
        "id": "04817e3e",
        "outputId": "f590d818-3037-4e6e-d5e5-d638b4842a95"
      },
      "outputs": [
        {
          "name": "stdout",
          "output_type": "stream",
          "text": [
            "5.2\n",
            "<class 'float'>\n",
            "5.2\n",
            "<class 'str'>\n",
            "True\n",
            "<class 'bool'>\n",
            "(5.2+0j)\n",
            "<class 'complex'>\n"
          ]
        }
      ],
      "source": [
        "a=5.2\n",
        "print(a)\n",
        "print(type(a))\n",
        "b=str(a)\n",
        "print(b)\n",
        "print(type(b))\n",
        "c=bool(a)\n",
        "print(c)\n",
        "print(type(c))\n",
        "d=complex(a)\n",
        "print(d)\n",
        "print(type(d))"
      ]
    },
    {
      "cell_type": "markdown",
      "id": "92a64339",
      "metadata": {
        "id": "92a64339"
      },
      "source": [
        "# Converting boolean to int, float, complex, string."
      ]
    },
    {
      "cell_type": "code",
      "execution_count": null,
      "id": "2128a9b0",
      "metadata": {
        "id": "2128a9b0",
        "outputId": "58a52c9e-f276-4178-d5c4-eee26499bd79"
      },
      "outputs": [
        {
          "name": "stdout",
          "output_type": "stream",
          "text": [
            "True\n",
            "<class 'bool'>\n",
            "1\n",
            "<class 'int'>\n",
            "1.0\n",
            "<class 'float'>\n",
            "(1+0j)\n",
            "<class 'complex'>\n",
            "True\n",
            "<class 'str'>\n"
          ]
        }
      ],
      "source": [
        "a=True\n",
        "print(a)\n",
        "print(type(a))\n",
        "b=int(a)\n",
        "print(b)\n",
        "print(type(b))\n",
        "c=float(a)\n",
        "print(c)\n",
        "print(type(c))\n",
        "d=complex(a)\n",
        "print(d)\n",
        "print(type(d))\n",
        "e=str(a)\n",
        "print(e)\n",
        "print(type(e))\n"
      ]
    },
    {
      "cell_type": "markdown",
      "id": "56bba97f",
      "metadata": {
        "id": "56bba97f"
      },
      "source": [
        "# Converting complex to int, float, boolean, string."
      ]
    },
    {
      "cell_type": "code",
      "execution_count": null,
      "id": "81c15931",
      "metadata": {
        "colab": {
          "base_uri": "https://localhost:8080/"
        },
        "id": "81c15931",
        "outputId": "b72a64d1-71c6-4f56-b542-df3f300b26ce"
      },
      "outputs": [
        {
          "output_type": "stream",
          "name": "stdout",
          "text": [
            "(10+2j)\n",
            "<class 'complex'>\n",
            "True\n",
            "<class 'bool'>\n",
            "(10+2j)\n",
            "<class 'str'>\n"
          ]
        }
      ],
      "source": [
        "a=10+2j\n",
        "print(a)\n",
        "print(type(a))\n",
        "# We cannot convert complex into intger.\n",
        "# b=int(a)\n",
        "# print(b)\n",
        "# print(type(b))\n",
        "# We cannot convert complex into float.\n",
        "# c=float(a)\n",
        "# print(c)\n",
        "# print(type(c))\n",
        "d=bool(a)\n",
        "print(d)\n",
        "print(type(d))\n",
        "e=str(a)\n",
        "print(e)\n",
        "print(type((e)))"
      ]
    },
    {
      "cell_type": "code",
      "execution_count": null,
      "id": "ba4d120b",
      "metadata": {
        "id": "ba4d120b"
      },
      "outputs": [],
      "source": [
        "# find out the person is eligible for voting or not."
      ]
    },
    {
      "cell_type": "code",
      "source": [
        ""
      ],
      "metadata": {
        "id": "HTu9SBRZPeeB"
      },
      "id": "HTu9SBRZPeeB",
      "execution_count": null,
      "outputs": []
    }
  ],
  "metadata": {
    "kernelspec": {
      "display_name": "Python 3 (ipykernel)",
      "language": "python",
      "name": "python3"
    },
    "language_info": {
      "codemirror_mode": {
        "name": "ipython",
        "version": 3
      },
      "file_extension": ".py",
      "mimetype": "text/x-python",
      "name": "python",
      "nbconvert_exporter": "python",
      "pygments_lexer": "ipython3",
      "version": "3.9.7"
    },
    "colab": {
      "name": "DATATYPES.ipynb",
      "provenance": [],
      "collapsed_sections": [],
      "include_colab_link": true
    }
  },
  "nbformat": 4,
  "nbformat_minor": 5
}