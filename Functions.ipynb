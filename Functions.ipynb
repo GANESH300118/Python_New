{
  "nbformat": 4,
  "nbformat_minor": 0,
  "metadata": {
    "colab": {
      "name": "Functions.ipynb",
      "provenance": [],
      "collapsed_sections": [],
      "authorship_tag": "ABX9TyOjNUWjp1W/X/i9CxUkrVCa",
      "include_colab_link": true
    },
    "kernelspec": {
      "name": "python3",
      "display_name": "Python 3"
    },
    "language_info": {
      "name": "python"
    }
  },
  "cells": [
    {
      "cell_type": "markdown",
      "metadata": {
        "id": "view-in-github",
        "colab_type": "text"
      },
      "source": [
        "<a href=\"https://colab.research.google.com/github/GANESH300118/Python_New/blob/Module_2/Functions.ipynb\" target=\"_parent\"><img src=\"https://colab.research.google.com/assets/colab-badge.svg\" alt=\"Open In Colab\"/></a>"
      ]
    },
    {
      "cell_type": "code",
      "execution_count": null,
      "metadata": {
        "colab": {
          "base_uri": "https://localhost:8080/"
        },
        "id": "XOGS1bgyU-qb",
        "outputId": "6b82898c-21ae-40ef-d442-c94c1f704a00"
      },
      "outputs": [
        {
          "output_type": "stream",
          "name": "stdout",
          "text": [
            "Hi\n",
            "Hello\n",
            "World\n"
          ]
        }
      ],
      "source": [
        "def ganesh():\n",
        "  print(\"Hello\")\n",
        "  print(\"World\")\n",
        "ganesh()"
      ]
    },
    {
      "cell_type": "code",
      "source": [
        "def addition():\n",
        "  a=123\n",
        "  b=556\n",
        "  c=a+b\n",
        "  print('a+b =',c)\n",
        "addition()"
      ],
      "metadata": {
        "colab": {
          "base_uri": "https://localhost:8080/"
        },
        "id": "4fSozEYFWxhq",
        "outputId": "d77b968d-12d4-484d-c9f7-f4d82e93740b"
      },
      "execution_count": null,
      "outputs": [
        {
          "output_type": "stream",
          "name": "stdout",
          "text": [
            "a+b = 679\n"
          ]
        }
      ]
    },
    {
      "cell_type": "code",
      "source": [
        "def my_function():\n",
        "  print(\"Hello from a function\")\n",
        "\n",
        "my_function()"
      ],
      "metadata": {
        "colab": {
          "base_uri": "https://localhost:8080/"
        },
        "id": "lsMDgx-ZYd2n",
        "outputId": "b855618d-a752-4e60-aa78-47b680460df2"
      },
      "execution_count": null,
      "outputs": [
        {
          "output_type": "stream",
          "name": "stdout",
          "text": [
            "Hello from a function\n"
          ]
        }
      ]
    },
    {
      "cell_type": "code",
      "source": [
        "def cars(car):\n",
        "  print(car)\n",
        "cars(\"mustang\")"
      ],
      "metadata": {
        "colab": {
          "base_uri": "https://localhost:8080/"
        },
        "id": "PIc_rYtfZ0Aq",
        "outputId": "e8b0f3a2-1d0f-4c1a-ecca-919532a8db56"
      },
      "execution_count": null,
      "outputs": [
        {
          "output_type": "stream",
          "name": "stdout",
          "text": [
            "mustang\n"
          ]
        }
      ]
    },
    {
      "cell_type": "code",
      "source": [
        "def my_function(food):\n",
        "  for x in food:\n",
        "    print(x)\n",
        "\n",
        "fruits = [\"apple\", \"banana\", \"cherry\"]\n",
        "\n",
        "my_function(fruits)"
      ],
      "metadata": {
        "colab": {
          "base_uri": "https://localhost:8080/"
        },
        "id": "43VHr0K1Wz_J",
        "outputId": "9ec86479-0d2e-485e-a5be-d3479a4feccb"
      },
      "execution_count": null,
      "outputs": [
        {
          "output_type": "stream",
          "name": "stdout",
          "text": [
            "apple\n",
            "banana\n",
            "cherry\n"
          ]
        }
      ]
    },
    {
      "cell_type": "code",
      "source": [
        "def voter(name,gender,age):\n",
        "  print(\"name=\",name,'gender=',gender,\"age=\",age)\n",
        "voter('ganesh','Male',20)"
      ],
      "metadata": {
        "colab": {
          "base_uri": "https://localhost:8080/"
        },
        "id": "JC8V7s7fa-k5",
        "outputId": "806f89d2-e613-433e-cbb5-ce570cc33e2e"
      },
      "execution_count": null,
      "outputs": [
        {
          "output_type": "stream",
          "name": "stdout",
          "text": [
            "name= ganesh gender= Male age= 20\n"
          ]
        }
      ]
    },
    {
      "cell_type": "code",
      "source": [
        "def voting_eligibility(name,age,gender):\n",
        "  print('Name=',name,'Age=',age,'Gender=',gender)\n",
        "  if age>=18:\n",
        "    print(\"Eligible\")\n",
        "  else:\n",
        "    print('Not eligible')\n",
        "voting_eligibility('Ganesh',19,'Male')"
      ],
      "metadata": {
        "colab": {
          "base_uri": "https://localhost:8080/"
        },
        "id": "IfynkRJMb8k6",
        "outputId": "6f00ca13-a789-4649-ea31-cdba112100c9"
      },
      "execution_count": null,
      "outputs": [
        {
          "output_type": "stream",
          "name": "stdout",
          "text": [
            "Name= Ganesh Age= 19 Gender= Male\n",
            "Eligible\n"
          ]
        }
      ]
    },
    {
      "cell_type": "code",
      "source": [
        "def leap_year():\n",
        "  year=int(input())\n",
        "  if (year % 400 == 0) and (year % 100 == 0):\n",
        "    print(\"{0} is a leap year\".format(year))\n",
        "  elif (year % 4 ==0) and (year % 100 != 0):\n",
        "    print(\"{0} is a leap year\".format(year))\n",
        "  else:\n",
        "    print(\"{0} is not a leap year\".format(year))\n",
        "leap_year()\n"
      ],
      "metadata": {
        "colab": {
          "base_uri": "https://localhost:8080/"
        },
        "id": "BpWOK1-8dvgZ",
        "outputId": "eeabf71a-bcb7-4f05-c03e-71d2f4897055"
      },
      "execution_count": null,
      "outputs": [
        {
          "output_type": "stream",
          "name": "stdout",
          "text": [
            "2012\n",
            "2012 is a leap year\n"
          ]
        }
      ]
    },
    {
      "cell_type": "code",
      "source": [
        "def operations(a,b):\n",
        "  print(\"Addition is \",a+b)\n",
        "  print(\"Substarction of the 2 numbers is \",a-b)\n",
        "  print(\"Multiplication of the 2 numbers is \",a*b)\n",
        "  print(\"Division of the 2 numbers is \",a/b)\n",
        "  print(\"Remainder of the 2 numbers is \",a%b)\n",
        "operations(float(input()),float(input()))"
      ],
      "metadata": {
        "colab": {
          "base_uri": "https://localhost:8080/"
        },
        "id": "broQHZi8e8pJ",
        "outputId": "d95eb424-7278-4dfc-ed93-3b9c2f4ab5d8"
      },
      "execution_count": null,
      "outputs": [
        {
          "output_type": "stream",
          "name": "stdout",
          "text": [
            "550\n",
            "456\n",
            "Addition is  1006.0\n",
            "Substarction of the 2 numbers is  94.0\n",
            "Multiplication of the 2 numbers is  250800.0\n",
            "Division of the 2 numbers is  1.206140350877193\n",
            "Remainder of the 2 numbers is  94.0\n"
          ]
        }
      ]
    },
    {
      "cell_type": "code",
      "source": [
        "def my_function(*kids):\n",
        "  print(\"The youngest child is \" + kids[2])\n",
        "my_function(\"Emil\", \"Tobias\", \"Linus\")"
      ],
      "metadata": {
        "colab": {
          "base_uri": "https://localhost:8080/"
        },
        "id": "g5NTR2gZi50q",
        "outputId": "6af39a70-af5b-491b-ff4e-167d045f3ea4"
      },
      "execution_count": null,
      "outputs": [
        {
          "output_type": "stream",
          "name": "stdout",
          "text": [
            "The youngest child is Linus\n"
          ]
        }
      ]
    },
    {
      "cell_type": "code",
      "source": [
        "def voting_eligibility(*details):\n",
        "  print('Name=',details[0],'Age=',details[1],'Gender=',details[2])\n",
        "  if details[1]>=18:\n",
        "    print(\"Eligible\")\n",
        "  else:\n",
        "    print('Not eligible')\n",
        "voting_eligibility('Ganesh',19,'Male')\n",
        "voting_eligibility(str(input()),int(input()),str(input()))"
      ],
      "metadata": {
        "colab": {
          "base_uri": "https://localhost:8080/"
        },
        "id": "uhW4GKX3i7-J",
        "outputId": "c258fc66-73dd-4918-c7fd-4619f1bca44b"
      },
      "execution_count": null,
      "outputs": [
        {
          "output_type": "stream",
          "name": "stdout",
          "text": [
            "Name= Ganesh Age= 19 Gender= Male\n",
            "Eligible\n",
            "yogesh\n",
            "14\n",
            "Male\n",
            "Name= yogesh Age= 14 Gender= Male\n",
            "Not eligible\n"
          ]
        }
      ]
    },
    {
      "cell_type": "code",
      "source": [
        "def function(x):\n",
        "  return 10*x\n",
        "print(function(5))"
      ],
      "metadata": {
        "colab": {
          "base_uri": "https://localhost:8080/"
        },
        "id": "c8ePjHhRGHW-",
        "outputId": "c347145a-329c-41b2-a7e2-3d1090b4af19"
      },
      "execution_count": null,
      "outputs": [
        {
          "output_type": "stream",
          "name": "stdout",
          "text": [
            "50\n"
          ]
        }
      ]
    },
    {
      "cell_type": "markdown",
      "source": [
        " # python built-in functions "
      ],
      "metadata": {
        "id": "Yek4tvRVlQUy"
      }
    },
    {
      "cell_type": "code",
      "source": [
        "# absolute\n",
        "a=-24.2\n",
        "b=abs(a)\n",
        "print(b)\n",
        "# pow\n",
        "a=56\n",
        "c=pow(a,3)\n",
        "print(c)"
      ],
      "metadata": {
        "colab": {
          "base_uri": "https://localhost:8080/"
        },
        "id": "aKZZgEOhlOz5",
        "outputId": "8c4e14c7-a076-4cdc-a242-7731ca1848d4"
      },
      "execution_count": null,
      "outputs": [
        {
          "output_type": "stream",
          "name": "stdout",
          "text": [
            "24.2\n",
            "175616\n"
          ]
        }
      ]
    },
    {
      "cell_type": "code",
      "source": [
        ""
      ],
      "metadata": {
        "id": "dZwL4R_WmAda"
      },
      "execution_count": null,
      "outputs": []
    },
    {
      "cell_type": "code",
      "source": [
        ""
      ],
      "metadata": {
        "id": "i7kE0H3aHRp-"
      },
      "execution_count": null,
      "outputs": []
    }
  ]
}