{
  "nbformat": 4,
  "nbformat_minor": 0,
  "metadata": {
    "colab": {
      "name": "Module(Second Sem)-1.ipynb",
      "provenance": [],
      "collapsed_sections": [],
      "authorship_tag": "ABX9TyPU1S3grs20matQMOGWVZw1",
      "include_colab_link": true
    },
    "kernelspec": {
      "name": "python3",
      "display_name": "Python 3"
    },
    "language_info": {
      "name": "python"
    }
  },
  "cells": [
    {
      "cell_type": "markdown",
      "metadata": {
        "id": "view-in-github",
        "colab_type": "text"
      },
      "source": [
        "<a href=\"https://colab.research.google.com/github/GANESH300118/Python_New/blob/Module_1/Module(Second_Sem)_1.ipynb\" target=\"_parent\"><img src=\"https://colab.research.google.com/assets/colab-badge.svg\" alt=\"Open In Colab\"/></a>"
      ]
    },
    {
      "cell_type": "code",
      "execution_count": null,
      "metadata": {
        "colab": {
          "base_uri": "https://localhost:8080/"
        },
        "id": "CnsA-al89N3J",
        "outputId": "469f3fff-c742-47d0-c4ce-8518a0e54dd0"
      },
      "outputs": [
        {
          "output_type": "stream",
          "name": "stdout",
          "text": [
            "1\n",
            "The value of a is 1\n"
          ]
        }
      ],
      "source": [
        "# Storing value in variable.-Q1\n",
        "a=int(input())\n",
        "print(\"The value of a is\",a)"
      ]
    },
    {
      "cell_type": "code",
      "source": [
        "# Printing different datatypes-Q2\n",
        "quantity = 3\n",
        "itemno = 567\n",
        "price = 49.95\n",
        "myorder = \"I want to pay {2} dollars for\\n {0} pieces of item {1}.\"\n",
        "print(myorder.format(quantity, itemno, price))"
      ],
      "metadata": {
        "id": "SJJ5fOQ19yJ-",
        "colab": {
          "base_uri": "https://localhost:8080/"
        },
        "outputId": "da6e7a76-88ad-48f6-acd3-9f1f8d4912d9"
      },
      "execution_count": null,
      "outputs": [
        {
          "output_type": "stream",
          "name": "stdout",
          "text": [
            "I want to pay 49.95 dollars for\n",
            " 3 pieces of item 567.\n"
          ]
        }
      ]
    },
    {
      "cell_type": "code",
      "source": [
        "# # Operations on 2 numbers in (float)-Q3.1\n",
        "a=float(input())\n",
        "b=float(input())\n",
        "print(\"Addition is \",a+b)\n",
        "print(\"Substarction of the 2 numbers is \",a-b)\n",
        "print(\"Multiplication of the 2 numbers is \",a*b)\n",
        "print(\"Division of the 2 numbers is \",a/b)\n",
        "print(\"Remainder of the 2 numbers is \",a%b)"
      ],
      "metadata": {
        "colab": {
          "base_uri": "https://localhost:8080/"
        },
        "id": "iZGDkhDVoMt9",
        "outputId": "56ef8894-9051-4c99-9035-12793c7c6e95"
      },
      "execution_count": null,
      "outputs": [
        {
          "output_type": "stream",
          "name": "stdout",
          "text": [
            "10\n",
            "5\n",
            "Addition is  15.0\n",
            "Substarction of the 2 numbers is  5.0\n",
            "Multiplication of the 2 numbers is  50.0\n",
            "Division of the 2 numbers is  2.0\n",
            "Remainder of the 2 numbers is  0.0\n"
          ]
        }
      ]
    },
    {
      "cell_type": "code",
      "source": [
        "# Operations on 2 numbers in (int)Q3.2\n",
        "a=int(input())\n",
        "b=int(input())\n",
        "print(\"Addition is\",a+b)\n",
        "print(\"Substarction of the 2 numbers is\",a-b)\n",
        "print(\"Multiplication of the 2 numbers is\",a*b)\n",
        "  # always use \"//\" to get intger values.\n",
        "print(\"Division of the 2 numbers is\",a//b)\n",
        "print(\"Remainder of the 2 numbers is\",a%b)"
      ],
      "metadata": {
        "colab": {
          "base_uri": "https://localhost:8080/"
        },
        "id": "zJ_s1mYEoaZC",
        "outputId": "a0032275-8393-41e0-e383-ce90689ec62d"
      },
      "execution_count": null,
      "outputs": [
        {
          "output_type": "stream",
          "name": "stdout",
          "text": [
            "10\n",
            "5\n",
            "Addition is 15\n",
            "Substarction of the 2 numbers is 5\n",
            "Multiplication of the 2 numbers is 50\n",
            "Division of the 2 numbers is 2.0\n",
            "Remainder of the 2 numbers is 0\n"
          ]
        }
      ]
    },
    {
      "cell_type": "code",
      "source": [
        "# Conversion of units.Q4\n",
        "print(\"Enter number of hours\")\n",
        "a=float(input())\n",
        "b=(a*60)\n",
        "c=(a/24)\n",
        "print(\"The number of minutes is\",b)\n",
        "print(\"The number of days is\",c)"
      ],
      "metadata": {
        "colab": {
          "base_uri": "https://localhost:8080/"
        },
        "id": "U4ekyuLcqk_P",
        "outputId": "8ef209dd-fd52-4b1e-c9ff-8d84b21822a1"
      },
      "execution_count": null,
      "outputs": [
        {
          "output_type": "stream",
          "name": "stdout",
          "text": [
            "Enter number of hours\n",
            "72\n",
            "The number of minutes is 4320.0\n",
            "The number of days is 3.0\n"
          ]
        }
      ]
    },
    {
      "cell_type": "code",
      "source": [
        "# Usage of diiferent functions like math.h etc...Q5\n",
        "import math\n",
        "a=10.2\n",
        "y=10\n",
        "b=math.ceil(a)\n",
        "c=math.floor(a)\n",
        "d=math.sqrt(a)\n",
        "e=math.fabs(a)\n",
        "f=math.fmod(a,y)\n",
        "g=math.trunc(a)\n",
        "h=math.pow(y,a)\n",
        "print(b)\n",
        "print(c)\n",
        "print(d)\n",
        "print(e)\n",
        "print(f)\n",
        "print(g)\n",
        "print(h)"
      ],
      "metadata": {
        "colab": {
          "base_uri": "https://localhost:8080/"
        },
        "id": "ZKwNUOROrP2u",
        "outputId": "66ee456a-bd68-4f53-e2c2-f089c6fc216b"
      },
      "execution_count": null,
      "outputs": [
        {
          "output_type": "stream",
          "name": "stdout",
          "text": [
            "11\n",
            "10\n",
            "3.1937438845342623\n",
            "10.2\n",
            "0.1999999999999993\n",
            "10\n",
            "15848931924.611109\n"
          ]
        }
      ]
    },
    {
      "cell_type": "code",
      "source": [
        "# Basic calculater, Q6\n",
        "a=float(input())\n",
        "b=float(input())\n",
        "c=str(input())\n",
        "if(c=='addition'):\n",
        "  print(a+b)\n",
        "elif(c=='subtraction'):\n",
        "  print(a-b)\n",
        "elif(c=='multiplication'):\n",
        "  print(a*b)\n",
        "elif(c=='division'):\n",
        "  print(a/b)\n",
        "elif(c=='remainder'):\n",
        "  print(a%b)\n",
        "else:\n",
        "  print(\"Enter any operator among addition, multiplication, division, subtraction and remainder\")"
      ],
      "metadata": {
        "colab": {
          "base_uri": "https://localhost:8080/"
        },
        "id": "eyGs10RiuCB7",
        "outputId": "3711e041-e898-4be7-9e06-fbdab03ec06b"
      },
      "execution_count": null,
      "outputs": [
        {
          "output_type": "stream",
          "name": "stdout",
          "text": [
            "165\n",
            "5\n",
            "division\n",
            "33.0\n"
          ]
        }
      ]
    },
    {
      "cell_type": "code",
      "source": [
        "# Marks of a student.Q-7\n",
        "a=float(input())\n",
        "b=float(input())\n",
        "c=float(input())\n",
        "d=float(input())\n",
        "e=float(input())\n",
        "percentage=((a+b+c+d+e)/500*100)\n",
        "total=(a+b+c+d+e)\n",
        "print(\"percentage of the student is\",percentage)\n",
        "print(\"The total marks obtained out of 500 marks is\",total)"
      ],
      "metadata": {
        "id": "1VOfgZTfxdvP",
        "colab": {
          "base_uri": "https://localhost:8080/"
        },
        "outputId": "c4daf969-ceeb-441f-a625-752ab8d9a750"
      },
      "execution_count": null,
      "outputs": [
        {
          "output_type": "stream",
          "name": "stdout",
          "text": [
            "85\n",
            "99\n",
            "97\n",
            "99\n",
            "89\n",
            "percentage of the student is 93.8\n",
            "The total marks obtained out of 500 marks is 469.0\n"
          ]
        }
      ]
    },
    {
      "cell_type": "code",
      "source": [
        "# Even and Odd count.(Q-8)\n",
        "i=1\n",
        "ec=0\n",
        "oc=0\n",
        "n=int(input())\n",
        "while i<n:\n",
        "  if(i%2==0):\n",
        "    print(i)\n",
        "    ec=(i+ec)\n",
        "    i=i+1\n",
        "  else:\n",
        "    print(i)\n",
        "    oc=(i+oc)\n",
        "    i=i+1\n",
        "print(\"The even count is\",ec)\n",
        "print(\"The odd count is\",oc)"
      ],
      "metadata": {
        "id": "Rnz9hl186OoM",
        "colab": {
          "base_uri": "https://localhost:8080/"
        },
        "outputId": "a2b56361-c16b-403e-b634-7311ef78489d"
      },
      "execution_count": null,
      "outputs": [
        {
          "output_type": "stream",
          "name": "stdout",
          "text": [
            "10\n",
            "1\n",
            "2\n",
            "3\n",
            "4\n",
            "5\n",
            "6\n",
            "7\n",
            "8\n",
            "9\n",
            "The even count is 20\n",
            "The odd count is 25\n"
          ]
        }
      ]
    },
    {
      "cell_type": "code",
      "source": [
        "# factorial of a number.(Q9.1)\n",
        "import math\n",
        "n=int(input())\n",
        "# i=0\n",
        "# factorial=n\n",
        "# while(i<=n):\n",
        "  # factorial=factorial*(n-1)\n",
        "  # n=(n-1)\n",
        "  # i=i+1\n",
        "# print(\"The factorial of a given number is\",factorial)\n",
        "x=math.factorial(n)\n",
        "print(x)"
      ],
      "metadata": {
        "id": "5Vjhuq3pSOjG",
        "colab": {
          "base_uri": "https://localhost:8080/"
        },
        "outputId": "f945ba12-ef1f-4021-a63f-33feedcc05c8"
      },
      "execution_count": null,
      "outputs": [
        {
          "output_type": "stream",
          "name": "stdout",
          "text": [
            "10\n",
            "3628800\n"
          ]
        }
      ]
    },
    {
      "cell_type": "code",
      "source": [
        "# Compute GCD of two given numbers.(Q9.2)\n",
        "a=int(input())\n",
        "b=int(input())\n",
        "print(\"GCD of a and b\",math.gcd(a,b))"
      ],
      "metadata": {
        "colab": {
          "base_uri": "https://localhost:8080/"
        },
        "id": "t9PaFnnH2yOf",
        "outputId": "13a5616b-9297-4bbf-c563-081cf5c1e053"
      },
      "execution_count": null,
      "outputs": [
        {
          "output_type": "stream",
          "name": "stdout",
          "text": [
            "10\n",
            "15\n",
            "GCD of a and b 5\n"
          ]
        }
      ]
    },
    {
      "cell_type": "code",
      "source": [
        "# fibinoci series.(Q9.3)\n",
        "a=0\n",
        "b=1\n",
        "i=2\n",
        "n=int(input(\"Enter upto how many digits\"))\n",
        "print(a)\n",
        "print(b)\n",
        "while i<=n:\n",
        "  c=a+b\n",
        "  print(c)\n",
        "  a=b\n",
        "  b=c\n",
        "  i=i+1"
      ],
      "metadata": {
        "id": "qemNY8X6yaMn",
        "colab": {
          "base_uri": "https://localhost:8080/"
        },
        "outputId": "77f63229-6d4f-4498-891d-5bff34c69567"
      },
      "execution_count": null,
      "outputs": [
        {
          "output_type": "stream",
          "name": "stdout",
          "text": [
            "Enter upto how many digits10\n",
            "0\n",
            "1\n",
            "1\n",
            "2\n",
            "3\n",
            "5\n",
            "8\n",
            "13\n",
            "21\n",
            "34\n",
            "55\n"
          ]
        }
      ]
    },
    {
      "cell_type": "code",
      "source": [
        "# pallindrome.(Q10.1)\n",
        "n=int(input())\n",
        "x=n\n",
        "sum=0\n",
        "while n>0:\n",
        "  di=n%10\n",
        "  sum=sum*10+di\n",
        "  # always use \"//\" to get intger values.\n",
        "  n=n//10\n",
        "if sum==x:\n",
        "  print('The given number is pallindrome')\n",
        "else:\n",
        "  print(\"The given number is not a pallindrome\")"
      ],
      "metadata": {
        "colab": {
          "base_uri": "https://localhost:8080/"
        },
        "id": "8UqGKdC4_f0H",
        "outputId": "044b7dd2-922b-48ec-8de9-89ef47a32b05"
      },
      "execution_count": null,
      "outputs": [
        {
          "output_type": "stream",
          "name": "stdout",
          "text": [
            "121\n",
            "The given number is pallindrome\n"
          ]
        }
      ]
    },
    {
      "cell_type": "code",
      "source": [
        "# strong number.(Q10.2)\n",
        "sum=0\n",
        "n=int(input())\n",
        "s=n\n",
        "z=n\n",
        "while(z>0):\n",
        "  s=z%10\n",
        "  sum=sum+(math.factorial(s))\n",
        "  z=z//10\n",
        "if sum==n:\n",
        "  print(\"The given number is a strong number\")\n",
        "else:\n",
        "  print(\"The given number is not a strong number\")"
      ],
      "metadata": {
        "colab": {
          "base_uri": "https://localhost:8080/"
        },
        "id": "ESJE6nzNuv3p",
        "outputId": "d0effca4-6f77-4a7f-c846-cd0518cf0ade"
      },
      "execution_count": null,
      "outputs": [
        {
          "output_type": "stream",
          "name": "stdout",
          "text": [
            "145\n",
            "The given number is a strong number\n"
          ]
        }
      ]
    },
    {
      "cell_type": "code",
      "source": [
        "# perfect number.(Q10.3)\n",
        "i=1\n",
        "sum=0\n",
        "n=int(input())\n",
        "while i<n:\n",
        "  if n%i==0:\n",
        "    sum=sum+i\n",
        "    i=i+1\n",
        "  else:\n",
        "    i=i+1\n",
        "if n==sum:\n",
        "  print(\"The given number is perfect number\")\n",
        "else:\n",
        "  print(\"The given number is not a perfect number\")"
      ],
      "metadata": {
        "colab": {
          "base_uri": "https://localhost:8080/"
        },
        "id": "KYjIlWGuxTAJ",
        "outputId": "1b72133b-f987-4523-dd13-618687340f8d"
      },
      "execution_count": null,
      "outputs": [
        {
          "output_type": "stream",
          "name": "stdout",
          "text": [
            "28\n",
            "The given number is perfect number\n"
          ]
        }
      ]
    },
    {
      "cell_type": "code",
      "source": [
        "#Compute compound interest using loop for a certain principal and interest amount.(Q11)\n",
        "n = int(input(\"Enter the principle amount:\"))\n",
        "rate = int(input(\"Enter the rate:\"))\n",
        "years = int(input(\"Enter the number of years:\"))\n",
        "for i in range(years):\n",
        "  n = n+((n*rate)/100)\n",
        "print(n)"
      ],
      "metadata": {
        "colab": {
          "base_uri": "https://localhost:8080/"
        },
        "id": "qb8zZeO4xrBN",
        "outputId": "db64430e-5934-411f-9a47-4b82dd1951c0"
      },
      "execution_count": null,
      "outputs": [
        {
          "output_type": "stream",
          "name": "stdout",
          "text": [
            "Enter the principle amount:100000\n",
            "Enter the rate:5\n",
            "Enter the number of years:5\n",
            "127628.15625\n"
          ]
        }
      ]
    },
    {
      "cell_type": "code",
      "source": [
        "n=int(input())\n",
        "for i in range(1,11):\n",
        "  print('{} * {} = {}'.format(n,i,n*i))"
      ],
      "metadata": {
        "colab": {
          "base_uri": "https://localhost:8080/"
        },
        "id": "t89VDpMPqZ1l",
        "outputId": "2c076551-6782-4674-dde4-8016ee5e8b7d"
      },
      "execution_count": null,
      "outputs": [
        {
          "output_type": "stream",
          "name": "stdout",
          "text": [
            "9\n",
            "9 * 1 = 9\n",
            "9 * 2 = 18\n",
            "9 * 3 = 27\n",
            "9 * 4 = 36\n",
            "9 * 5 = 45\n",
            "9 * 6 = 54\n",
            "9 * 7 = 63\n",
            "9 * 8 = 72\n",
            "9 * 9 = 81\n",
            "9 * 10 = 90\n"
          ]
        }
      ]
    },
    {
      "cell_type": "code",
      "source": [
        ""
      ],
      "metadata": {
        "id": "62-276dRqyIb"
      },
      "execution_count": null,
      "outputs": []
    }
  ]
}